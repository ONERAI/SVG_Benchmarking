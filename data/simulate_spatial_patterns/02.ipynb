{
 "cells": [
  {
   "cell_type": "code",
   "execution_count": 92,
   "id": "82ededcf-ce2a-445c-8727-9048979a7ebe",
   "metadata": {},
   "outputs": [],
   "source": [
    "import numpy as np\n",
    "import pandas as pd\n",
    "import matplotlib.pyplot as plt\n",
    "\n",
    "import simstpy as sim"
   ]
  },
  {
   "cell_type": "code",
   "execution_count": 85,
   "id": "2301d034-c6a1-4985-97bd-67017114c557",
   "metadata": {},
   "outputs": [],
   "source": [
    "df = array_to_dataframe(A)"
   ]
  },
  {
   "cell_type": "code",
   "execution_count": 90,
   "id": "9c20a477-4fc0-4b54-b443-27f8aa8e7d3e",
   "metadata": {},
   "outputs": [],
   "source": [
    "B = dataframe_to_array(df)"
   ]
  },
  {
   "cell_type": "code",
   "execution_count": 88,
   "id": "b479d808-85bf-43b9-b587-4001d24f72d4",
   "metadata": {},
   "outputs": [
    {
     "data": {
      "text/plain": [
       "2500"
      ]
     },
     "execution_count": 88,
     "metadata": {},
     "output_type": "execute_result"
    }
   ],
   "source": [
    "len(df)"
   ]
  },
  {
   "cell_type": "code",
   "execution_count": 87,
   "id": "7c130a3b-469e-4488-99e7-c6d330a0b2c1",
   "metadata": {},
   "outputs": [
    {
     "data": {
      "text/plain": [
       "49"
      ]
     },
     "execution_count": 87,
     "metadata": {},
     "output_type": "execute_result"
    }
   ],
   "source": [
    "df.x.values.max()"
   ]
  },
  {
   "cell_type": "code",
   "execution_count": 62,
   "id": "136c061e-5444-4ec9-8238-0f23adefdb03",
   "metadata": {},
   "outputs": [
    {
     "data": {
      "text/plain": [
       "<matplotlib.image.AxesImage at 0x15548f4ec0d0>"
      ]
     },
     "execution_count": 62,
     "metadata": {},
     "output_type": "execute_result"
    },
    {
     "data": {
      "image/png": "[encoded data removed]",
      "text/plain": [
       "<Figure size 432x288 with 1 Axes>"
      ]
     },
     "metadata": {
      "needs_background": "light"
     },
     "output_type": "display_data"
    }
   ],
   "source": [
    "def scotland(size:int=50, width=4) -> np.array:\n",
    "    \"\"\"\n",
    "    Si\n",
    "\n",
    "    Parameters\n",
    "    ----------\n",
    "    size : int, optional\n",
    "        dimensions, by default 50\n",
    "\n",
    "    Returns\n",
    "    -------\n",
    "    np.array\n",
    "        _description_\n",
    "    \"\"\"\n",
    "\n",
    "    pattern = np.eye(size)\n",
    "    \n",
    "    for w in range(width):\n",
    "        for i in range(size-w):\n",
    "            pattern[i, i+w] = 1\n",
    "            pattern[i+w, i] = 1\n",
    "        \n",
    "    pattern = pattern + np.fliplr(pattern)\n",
    "    pattern[pattern>1] = 1\n",
    "    return pattern\n",
    "\n",
    "A = scotland(width=5)\n",
    "plt.imshow(A)"
   ]
  },
  {
   "cell_type": "code",
   "execution_count": 91,
   "id": "865de5ad-06eb-4c20-8524-ffdd5b06e983",
   "metadata": {},
   "outputs": [
    {
     "data": {
      "text/plain": [
       "<matplotlib.image.AxesImage at 0x1554830c9b20>"
      ]
     },
     "execution_count": 91,
     "metadata": {},
     "output_type": "execute_result"
    },
    {
     "data": {
      "image/png": "[encoded data removed]",
      "text/plain": [
       "<Figure size 432x288 with 1 Axes>"
      ]
     },
     "metadata": {
      "needs_background": "light"
     },
     "output_type": "display_data"
    }
   ],
   "source": [
    "plt.imshow(B)"
   ]
  },
  {
   "cell_type": "code",
   "execution_count": null,
   "id": "437d142b-c089-4e4d-96a5-c07c424bcb38",
   "metadata": {},
   "outputs": [],
   "source": []
  }
 ],
 "metadata": {
  "kernelspec": {
   "display_name": "Python 3 (ipykernel)",
   "language": "python",
   "name": "python3"
  },
  "language_info": {
   "codemirror_mode": {
    "name": "ipython",
    "version": 3
   },
   "file_extension": ".py",
   "mimetype": "text/x-python",
   "name": "python",
   "nbconvert_exporter": "python",
   "pygments_lexer": "ipython3",
   "version": "3.8.12"
  }
 },
 "nbformat": 4,
 "nbformat_minor": 5
}

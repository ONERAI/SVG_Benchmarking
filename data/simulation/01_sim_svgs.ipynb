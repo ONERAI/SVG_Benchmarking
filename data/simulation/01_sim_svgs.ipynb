{
 "cells": [
  {
   "cell_type": "code",
   "execution_count": 1,
   "id": "70e4d0a0-366f-4d38-95d6-1fb65f7da8a4",
   "metadata": {},
   "outputs": [],
   "source": [
    "import numpy as np\n",
    "import pandas as pd\n",
    "import scipy as sp\n",
    "import scanpy as sc\n",
    "import squidpy as sq\n",
    "import anndata as ad\n",
    "import seaborn as sns\n",
    "import simstpy as sim\n",
    "import matplotlib.pyplot as plt"
   ]
  },
  {
   "cell_type": "code",
   "execution_count": null,
   "id": "91a0f292-1f34-4f2d-a124-d610101e4480",
   "metadata": {},
   "outputs": [
    {
     "name": "stdout",
     "output_type": "stream",
     "text": [
      "WARNING: Please specify a valid `library_id` or set it permanently in `adata.uns['spatial']`\n",
      "WARNING: Please specify a valid `library_id` or set it permanently in `adata.uns['spatial']`\n"
     ]
    }
   ],
   "source": [
    "for i in range(10):\n",
    "    adata = sim.rna.sim_svgs(n_svgs=20, n_non_svgs=200, random_state=42+i)\n",
    "    adata.layers['counts'] = adata.X.copy()\n",
    "    sc.pp.normalize_total(adata, target_sum=1e4)\n",
    "    sc.pp.log1p(adata)\n",
    "    sq.pl.spatial_scatter(adata, shape=None, color=adata.var_names[adata.var.spatially_variable], frameon=False)\n",
    "    sq.pl.spatial_scatter(adata, shape=None, color=adata.var_names[~adata.var.spatially_variable][:4], frameon=False)\n",
    "    adata.write_h5ad(f\"./svgs/adata_rep_{i}.h5ad\")"
   ]
  }
 ],
 "metadata": {
  "kernelspec": {
   "display_name": "Python 3 (ipykernel)",
   "language": "python",
   "name": "python3"
  },
  "language_info": {
   "codemirror_mode": {
    "name": "ipython",
    "version": 3
   },
   "file_extension": ".py",
   "mimetype": "text/x-python",
   "name": "python",
   "nbconvert_exporter": "python",
   "pygments_lexer": "ipython3",
   "version": "3.8.12"
  }
 },
 "nbformat": 4,
 "nbformat_minor": 5
}

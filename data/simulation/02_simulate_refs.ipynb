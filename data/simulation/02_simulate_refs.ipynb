{
 "cells": [
  {
   "cell_type": "code",
   "execution_count": null,
   "id": "6627d7b3-5cd7-4f23-b43d-26408bff26e7",
   "metadata": {},
   "outputs": [],
   "source": [
    "%load_ext nb_black"
   ]
  },
  {
   "cell_type": "code",
   "execution_count": null,
   "id": "711eb175-4178-4317-864b-7a387ff69269",
   "metadata": {},
   "outputs": [],
   "source": [
    "import numpy as np\n",
    "import pandas as pd\n",
    "import scipy as sp\n",
    "import scanpy as sc\n",
    "import squidpy as sq\n",
    "import anndata as ad\n",
    "import seaborn as sns\n",
    "import simstpy as sim\n",
    "import matplotlib.pyplot as plt"
   ]
  },
  {
   "cell_type": "code",
   "execution_count": null,
   "id": "c0f1d10a-b851-415d-93ac-5fed096ad3cb",
   "metadata": {},
   "outputs": [],
   "source": [
    "SPATIAL_PATTERNS = [\n",
    "    \"human_DLPFC_151508\",\n",
    "    \"human_DLPFC_151674\",\n",
    "    \"mouse_cerebellum\",\n",
    "    \"mouse_coronal_slices\",\n",
    "    \"breast_tumor\"\n",
    "]"
   ]
  },
  {
   "cell_type": "code",
   "execution_count": null,
   "id": "25997910-6859-4e58-952e-ae5a5d3975e7",
   "metadata": {},
   "outputs": [],
   "source": [
    "adata = sc.read_h5ad(f\"./reference/151507.h5ad\")\n",
    "adata"
   ]
  },
  {
   "cell_type": "code",
   "execution_count": null,
   "id": "1477f06b-5cc2-427f-a61f-4dd6ec9d2bd4",
   "metadata": {
    "tags": []
   },
   "outputs": [],
   "source": [
    "library_size_params = sim.rna.fit_library_size(adata.layers[\"counts\"])\n",
    "gene_mean_params = sim.rna.fit_gene_expression(adata.X, quantile=0.99)"
   ]
  },
  {
   "cell_type": "code",
   "execution_count": null,
   "id": "f6f124fb-438b-4486-bc91-87033cb5a6f3",
   "metadata": {},
   "outputs": [],
   "source": [
    "for i, spatial_pattern in enumerate(SPATIAL_PATTERNS):\n",
    "    df_spatial = sim.spatial.read_pattern(f\"{spatial_pattern}\")\n",
    "    \n",
    "    sim_adata = sim.rna.sim_multi_group(library_size_params,\n",
    "                                        gene_mean_params,  \n",
    "                                        n_svgs=1000,\n",
    "                                        n_non_svgs=9000,\n",
    "                                        df_spatial=df_spatial, \n",
    "                                        library_id=spatial_pattern,\n",
    "                                        group_name=\"spatial_cluster\",\n",
    "                                       fold_change=\"step\")\n",
    "    \n",
    "    sim_adata.layers['counts'] = sim_adata.X.copy()\n",
    "    sc.pp.normalize_total(sim_adata, target_sum=1e4)\n",
    "    sc.pp.log1p(sim_adata)\n",
    "    \n",
    "    sq.pl.spatial_scatter(sim_adata, shape=None, color=[\"spatial_cluster\"], title=spatial_pattern)\n",
    "    \n",
    "    sim.rna.compare_library_size(adata.layers['counts'], sim_adata.layers['counts'])\n",
    "    \n",
    "    adata2 = sim_adata[:, sim_adata.var.spatially_variable]\n",
    "    sc.tl.pca(adata2, svd_solver='arpack')\n",
    "    sc.pp.neighbors(adata2, n_neighbors=10, n_pcs=40)\n",
    "    sc.tl.umap(adata2)\n",
    "    sc.pl.umap(adata2, color=['spatial_cluster'], title=f\"{spatial_pattern}: UMAP with SVGs\")\n",
    "    \n",
    "    adata3 = sim_adata[:, ~sim_adata.var.spatially_variable]\n",
    "    sc.tl.pca(adata3, svd_solver='arpack')\n",
    "    sc.pp.neighbors(adata3, n_neighbors=10, n_pcs=40)\n",
    "    sc.tl.umap(adata3)\n",
    "    sc.pl.umap(adata3, color=['spatial_cluster'], title=f\"{spatial_pattern}: UMAP with non-SVGs\")\n",
    "    \n",
    "    sim_adata.write_h5ad(f\"./simulated/{spatial_pattern}.h5ad\")"
   ]
  },
  {
   "cell_type": "code",
   "execution_count": null,
   "id": "aa2abf30-b602-4a9c-8f18-bfb321cf1688",
   "metadata": {},
   "outputs": [],
   "source": []
  }
 ],
 "metadata": {
  "kernelspec": {
   "display_name": "Python 3 (ipykernel)",
   "language": "python",
   "name": "python3"
  },
  "language_info": {
   "codemirror_mode": {
    "name": "ipython",
    "version": 3
   },
   "file_extension": ".py",
   "mimetype": "text/x-python",
   "name": "python",
   "nbconvert_exporter": "python",
   "pygments_lexer": "ipython3",
   "version": "3.9.16"
  }
 },
 "nbformat": 4,
 "nbformat_minor": 5
}

{
 "cells": [
  {
   "cell_type": "code",
   "execution_count": 1,
   "id": "99ebb63e-52dc-47be-b670-6e2c1f0b0e20",
   "metadata": {},
   "outputs": [],
   "source": [
    "library(ggplot2)\n",
    "suppressMessages(library(dplyr))\n",
    "suppressMessages(library(cowplot))"
   ]
  },
  {
   "cell_type": "code",
   "execution_count": 2,
   "id": "d3dd8618-48ec-4e5a-ac54-97abf2fb1b12",
   "metadata": {},
   "outputs": [],
   "source": [
    "method_list = c(\"scGCO\", \"SpatialDE\")"
   ]
  },
  {
   "cell_type": "code",
   "execution_count": 3,
   "id": "2915e2c0-8857-499a-99cc-ffa240fdb054",
   "metadata": {},
   "outputs": [],
   "source": [
    "get_accuracy_moranI <- function(){\n",
    "    accuracy <- lapply(c(0:9), function(i){\n",
    "        df <- read.csv(glue::glue(\"../benchmarking/MoranI/svgs/rep_{i}.csv\", row.names=1))\n",
    "        df = df[c(\"pval_sim_fdr_bh\", \"spatially_variable\")]\n",
    "        df$pred = ifelse(df$pval_sim_fdr_bh < 0.05, 1, 0)\n",
    "        df$correct_pred = df$spatially_variable == df$pred\n",
    "        \n",
    "        return(sum(df$correct_pred) / nrow(df))   \n",
    "        \n",
    "    }) %>% unlist() %>%as.data.frame()\n",
    "    \n",
    "    colnames(accuracy) <- c(\"accuracy\")\n",
    "    accuracy$method <- \"MoranI\"\n",
    "    \n",
    "    return(accuracy)\n",
    "}\n",
    "\n",
    "get_accuracy_spatialDE <- function(){\n",
    "    accuracy <- lapply(c(0:9), function(i){\n",
    "        df <- read.csv(glue::glue(\"../benchmarking/SpatialDE/svgs/rep_{i}.csv\", row.names=1))\n",
    "        df = df[c(\"qval\", \"spatially_variable\")]\n",
    "        df$pred = ifelse(df$qval < 0.05, 1, 0)\n",
    "        df$correct_pred = df$spatially_variable == df$pred\n",
    "        return(sum(df$correct_pred) / nrow(df))   \n",
    "    }) %>% unlist() %>%as.data.frame()\n",
    "    \n",
    "    colnames(accuracy) <- c(\"accuracy\")\n",
    "    accuracy$method <- \"SpatialDE\"\n",
    "    \n",
    "    return(accuracy)\n",
    "}\n",
    "\n",
    "get_accuracy_scGCO <- function(){\n",
    "    accuracy <- lapply(c(0:9), function(i){\n",
    "        df <- read.csv(glue::glue(\"../benchmarking/scGCO/svgs/rep_{i}.csv\", row.names=1))\n",
    "        df = df[c(\"fdr\", \"spatially_variable\")]\n",
    "        df$pred = ifelse(df$fdr < 0.05, 1, 0)\n",
    "        df$correct_pred = df$spatially_variable == df$pred\n",
    "        return(sum(df$correct_pred) / nrow(df))   \n",
    "    }) %>% unlist() %>%as.data.frame()\n",
    "    \n",
    "    colnames(accuracy) <- c(\"accuracy\")\n",
    "    accuracy$method <- \"scGCO\"\n",
    "    \n",
    "    return(accuracy)\n",
    "\n",
    "}\n",
    "\n",
    "get_accuracy_SOMDE <- function(){\n",
    "    accuracy <- lapply(c(0:9), function(i){\n",
    "        df <- read.csv(glue::glue(\"../benchmarking/SOMDE/svgs/rep_{i}.csv\", row.names=1))\n",
    "        df = df[c(\"qval\", \"spatially_variable\")]\n",
    "        df$pred = ifelse(df$qval < 0.05, 1, 0)\n",
    "        df$correct_pred = df$spatially_variable == df$pred\n",
    "        return(sum(df$correct_pred) / nrow(df))   \n",
    "    }) %>% unlist() %>%as.data.frame()\n",
    "    \n",
    "    colnames(accuracy) <- c(\"accuracy\")\n",
    "    accuracy$method <- \"SOMDE\"\n",
    "    \n",
    "    return(accuracy)\n",
    "\n",
    "}"
   ]
  },
  {
   "cell_type": "code",
   "execution_count": 4,
   "id": "ed275ebb-f76b-40ae-b97e-9a99102a09b2",
   "metadata": {},
   "outputs": [],
   "source": [
    "df_moranI <- get_accuracy_moranI()\n",
    "df_spatialDE <- get_accuracy_spatialDE()\n",
    "df_scGCO <- get_accuracy_scGCO()\n",
    "df_SOMDE <- get_accuracy_SOMDE()"
   ]
  },
  {
   "cell_type": "code",
   "execution_count": 5,
   "id": "828bd0d9-ab74-4933-a6cb-b88d6f2809ff",
   "metadata": {},
   "outputs": [],
   "source": [
    "df <- rbind(df_moranI, df_spatialDE, df_scGCO, df_SOMDE)"
   ]
  },
  {
   "cell_type": "code",
   "execution_count": 6,
   "id": "519b0f8c-a969-4a86-b49d-2e81e8c248da",
   "metadata": {},
   "outputs": [
    {
     "data": {
      "text/html": [
       "<table class=\"dataframe\">\n",
       "<caption>A data.frame: 6 × 2</caption>\n",
       "<thead>\n",
       "\t<tr><th></th><th scope=col>accuracy</th><th scope=col>method</th></tr>\n",
       "\t<tr><th></th><th scope=col>&lt;dbl&gt;</th><th scope=col>&lt;chr&gt;</th></tr>\n",
       "</thead>\n",
       "<tbody>\n",
       "\t<tr><th scope=row>1</th><td>0.940</td><td>MoranI</td></tr>\n",
       "\t<tr><th scope=row>2</th><td>0.952</td><td>MoranI</td></tr>\n",
       "\t<tr><th scope=row>3</th><td>0.932</td><td>MoranI</td></tr>\n",
       "\t<tr><th scope=row>4</th><td>0.928</td><td>MoranI</td></tr>\n",
       "\t<tr><th scope=row>5</th><td>0.928</td><td>MoranI</td></tr>\n",
       "\t<tr><th scope=row>6</th><td>0.932</td><td>MoranI</td></tr>\n",
       "</tbody>\n",
       "</table>\n"
      ],
      "text/latex": [
       "A data.frame: 6 × 2\n",
       "\\begin{tabular}{r|ll}\n",
       "  & accuracy & method\\\\\n",
       "  & <dbl> & <chr>\\\\\n",
       "\\hline\n",
       "\t1 & 0.940 & MoranI\\\\\n",
       "\t2 & 0.952 & MoranI\\\\\n",
       "\t3 & 0.932 & MoranI\\\\\n",
       "\t4 & 0.928 & MoranI\\\\\n",
       "\t5 & 0.928 & MoranI\\\\\n",
       "\t6 & 0.932 & MoranI\\\\\n",
       "\\end{tabular}\n"
      ],
      "text/markdown": [
       "\n",
       "A data.frame: 6 × 2\n",
       "\n",
       "| <!--/--> | accuracy &lt;dbl&gt; | method &lt;chr&gt; |\n",
       "|---|---|---|\n",
       "| 1 | 0.940 | MoranI |\n",
       "| 2 | 0.952 | MoranI |\n",
       "| 3 | 0.932 | MoranI |\n",
       "| 4 | 0.928 | MoranI |\n",
       "| 5 | 0.928 | MoranI |\n",
       "| 6 | 0.932 | MoranI |\n",
       "\n"
      ],
      "text/plain": [
       "  accuracy method\n",
       "1 0.940    MoranI\n",
       "2 0.952    MoranI\n",
       "3 0.932    MoranI\n",
       "4 0.928    MoranI\n",
       "5 0.928    MoranI\n",
       "6 0.932    MoranI"
      ]
     },
     "metadata": {},
     "output_type": "display_data"
    }
   ],
   "source": [
    "head(df)"
   ]
  },
  {
   "cell_type": "code",
   "execution_count": 7,
   "id": "aa86f7e2-2f2c-4a7a-903d-035c6f69980b",
   "metadata": {},
   "outputs": [
    {
     "data": {
      "text/html": [
       "<table class=\"dataframe\">\n",
       "<caption>A tibble: 4 × 3</caption>\n",
       "<thead>\n",
       "\t<tr><th scope=col>method</th><th scope=col>mean</th><th scope=col>sd</th></tr>\n",
       "\t<tr><th scope=col>&lt;chr&gt;</th><th scope=col>&lt;dbl&gt;</th><th scope=col>&lt;dbl&gt;</th></tr>\n",
       "</thead>\n",
       "<tbody>\n",
       "\t<tr><td>MoranI   </td><td>0.9348</td><td>0.013603921</td></tr>\n",
       "\t<tr><td>SOMDE    </td><td>0.9964</td><td>0.002951459</td></tr>\n",
       "\t<tr><td>SpatialDE</td><td>0.9996</td><td>0.001264911</td></tr>\n",
       "\t<tr><td>scGCO    </td><td>0.3152</td><td>0.030799711</td></tr>\n",
       "</tbody>\n",
       "</table>\n"
      ],
      "text/latex": [
       "A tibble: 4 × 3\n",
       "\\begin{tabular}{lll}\n",
       " method & mean & sd\\\\\n",
       " <chr> & <dbl> & <dbl>\\\\\n",
       "\\hline\n",
       "\t MoranI    & 0.9348 & 0.013603921\\\\\n",
       "\t SOMDE     & 0.9964 & 0.002951459\\\\\n",
       "\t SpatialDE & 0.9996 & 0.001264911\\\\\n",
       "\t scGCO     & 0.3152 & 0.030799711\\\\\n",
       "\\end{tabular}\n"
      ],
      "text/markdown": [
       "\n",
       "A tibble: 4 × 3\n",
       "\n",
       "| method &lt;chr&gt; | mean &lt;dbl&gt; | sd &lt;dbl&gt; |\n",
       "|---|---|---|\n",
       "| MoranI    | 0.9348 | 0.013603921 |\n",
       "| SOMDE     | 0.9964 | 0.002951459 |\n",
       "| SpatialDE | 0.9996 | 0.001264911 |\n",
       "| scGCO     | 0.3152 | 0.030799711 |\n",
       "\n"
      ],
      "text/plain": [
       "  method    mean   sd         \n",
       "1 MoranI    0.9348 0.013603921\n",
       "2 SOMDE     0.9964 0.002951459\n",
       "3 SpatialDE 0.9996 0.001264911\n",
       "4 scGCO     0.3152 0.030799711"
      ]
     },
     "metadata": {},
     "output_type": "display_data"
    }
   ],
   "source": [
    "df.plot <- df %>%\n",
    "    group_by(method) %>%\n",
    "    summarise(mean = mean(accuracy), sd = sd(accuracy))\n",
    "\n",
    "df.plot"
   ]
  },
  {
   "cell_type": "code",
   "execution_count": 11,
   "id": "1719fdc5-63eb-4b79-b79f-d0ce495077a1",
   "metadata": {},
   "outputs": [
    {
     "data": {
      "image/png": "[encoded data removed]",
      "text/plain": [
       "plot without title"
      ]
     },
     "metadata": {
      "image/png": {
       "height": 180,
       "width": 240
      }
     },
     "output_type": "display_data"
    }
   ],
   "source": [
    "options(repr.plot.height = 3, repr.plot.width = 4)\n",
    "\n",
    "p <- ggplot(data=df.plot, aes(x = reorder(method, mean), y = mean)) +\n",
    "    geom_bar(aes(fill = method, color = method), stat = \"identity\") +\n",
    "    geom_errorbar(aes(x=method, ymin=mean-sd, ymax=mean+sd), width=0.25, alpha=0.5, size=1) +\n",
    "    xlab(\"\") + ylab(\"\") +\n",
    "    theme_cowplot() +\n",
    "    theme(legend.position = \"none\",\n",
    "         axis.ticks.y = element_blank()) +\n",
    "    coord_flip()\n",
    "\n",
    "p"
   ]
  },
  {
   "cell_type": "code",
   "execution_count": 9,
   "id": "00081ed5-a514-447f-9cf1-269ac8f58793",
   "metadata": {},
   "outputs": [],
   "source": [
    "# options(repr.plot.height = 5, repr.plot.width = 5)\n",
    "\n",
    "# p <- ggplot(data=df, aes(x = reorder(method, -accuracy, FUN = median), y = accuracy)) +\n",
    "#     geom_boxplot(aes(color = method)) +\n",
    "#     xlab(\"\") + ylab(\"\") +\n",
    "#     theme_cowplot() +\n",
    "#     theme(legend.position = \"none\",\n",
    "#          axis.ticks.x = element_blank(),\n",
    "#          axis.text.x = element_text(angle = 45, hjust = 1))\n",
    "\n",
    "# p"
   ]
  },
  {
   "cell_type": "code",
   "execution_count": null,
   "id": "7cb0ad01-c777-4c13-9cf8-de73dd0cce9d",
   "metadata": {},
   "outputs": [],
   "source": []
  }
 ],
 "metadata": {
  "kernelspec": {
   "display_name": "R",
   "language": "R",
   "name": "ir"
  },
  "language_info": {
   "codemirror_mode": "r",
   "file_extension": ".r",
   "mimetype": "text/x-r-source",
   "name": "R",
   "pygments_lexer": "r",
   "version": "4.1.1"
  }
 },
 "nbformat": 4,
 "nbformat_minor": 5
}

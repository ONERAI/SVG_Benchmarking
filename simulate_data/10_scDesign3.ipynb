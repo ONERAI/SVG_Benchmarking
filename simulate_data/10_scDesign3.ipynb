{
 "cells": [
  {
   "cell_type": "code",
   "execution_count": 1,
   "id": "a2a03e7c-9737-4c4e-9dff-b12e97aa4bae",
   "metadata": {},
   "outputs": [
    {
     "name": "stderr",
     "output_type": "stream",
     "text": [
      "\n",
      "Attaching package: ‘dplyr’\n",
      "\n",
      "\n",
      "The following objects are masked from ‘package:stats’:\n",
      "\n",
      "    filter, lag\n",
      "\n",
      "\n",
      "The following objects are masked from ‘package:base’:\n",
      "\n",
      "    intersect, setdiff, setequal, union\n",
      "\n",
      "\n"
     ]
    }
   ],
   "source": [
    "library(scDesign3)\n",
    "library(scales)\n",
    "library(dplyr)\n",
    "library(ggplot2)\n",
    "library(cowplot)"
   ]
  },
  {
   "cell_type": "code",
   "execution_count": 2,
   "id": "6480ec09-2eac-46d2-819f-ed77b453d3d3",
   "metadata": {},
   "outputs": [
    {
     "name": "stderr",
     "output_type": "stream",
     "text": [
      "Loading required package: SingleCellExperiment\n",
      "\n",
      "Loading required package: SummarizedExperiment\n",
      "\n",
      "Loading required package: MatrixGenerics\n",
      "\n",
      "Loading required package: matrixStats\n",
      "\n",
      "\n",
      "Attaching package: ‘matrixStats’\n",
      "\n",
      "\n",
      "The following object is masked from ‘package:dplyr’:\n",
      "\n",
      "    count\n",
      "\n",
      "\n",
      "\n",
      "Attaching package: ‘MatrixGenerics’\n",
      "\n",
      "\n",
      "The following objects are masked from ‘package:matrixStats’:\n",
      "\n",
      "    colAlls, colAnyNAs, colAnys, colAvgsPerRowSet, colCollapse,\n",
      "    colCounts, colCummaxs, colCummins, colCumprods, colCumsums,\n",
      "    colDiffs, colIQRDiffs, colIQRs, colLogSumExps, colMadDiffs,\n",
      "    colMads, colMaxs, colMeans2, colMedians, colMins, colOrderStats,\n",
      "    colProds, colQuantiles, colRanges, colRanks, colSdDiffs, colSds,\n",
      "    colSums2, colTabulates, colVarDiffs, colVars, colWeightedMads,\n",
      "    colWeightedMeans, colWeightedMedians, colWeightedSds,\n",
      "    colWeightedVars, rowAlls, rowAnyNAs, rowAnys, rowAvgsPerColSet,\n",
      "    rowCollapse, rowCounts, rowCummaxs, rowCummins, rowCumprods,\n",
      "    rowCumsums, rowDiffs, rowIQRDiffs, rowIQRs, rowLogSumExps,\n",
      "    rowMadDiffs, rowMads, rowMaxs, rowMeans2, rowMedians, rowMins,\n",
      "    rowOrderStats, rowProds, rowQuantiles, rowRanges, rowRanks,\n",
      "    rowSdDiffs, rowSds, rowSums2, rowTabulates, rowVarDiffs, rowVars,\n",
      "    rowWeightedMads, rowWeightedMeans, rowWeightedMedians,\n",
      "    rowWeightedSds, rowWeightedVars\n",
      "\n",
      "\n",
      "Loading required package: GenomicRanges\n",
      "\n",
      "Loading required package: stats4\n",
      "\n",
      "Loading required package: BiocGenerics\n",
      "\n",
      "\n",
      "Attaching package: ‘BiocGenerics’\n",
      "\n",
      "\n",
      "The following objects are masked from ‘package:dplyr’:\n",
      "\n",
      "    combine, intersect, setdiff, union\n",
      "\n",
      "\n",
      "The following objects are masked from ‘package:stats’:\n",
      "\n",
      "    IQR, mad, sd, var, xtabs\n",
      "\n",
      "\n",
      "The following objects are masked from ‘package:base’:\n",
      "\n",
      "    anyDuplicated, aperm, append, as.data.frame, basename, cbind,\n",
      "    colnames, dirname, do.call, duplicated, eval, evalq, Filter, Find,\n",
      "    get, grep, grepl, intersect, is.unsorted, lapply, Map, mapply,\n",
      "    match, mget, order, paste, pmax, pmax.int, pmin, pmin.int,\n",
      "    Position, rank, rbind, Reduce, rownames, sapply, setdiff, sort,\n",
      "    table, tapply, union, unique, unsplit, which.max, which.min\n",
      "\n",
      "\n",
      "Loading required package: S4Vectors\n",
      "\n",
      "\n",
      "Attaching package: ‘S4Vectors’\n",
      "\n",
      "\n",
      "The following objects are masked from ‘package:dplyr’:\n",
      "\n",
      "    first, rename\n",
      "\n",
      "\n",
      "The following objects are masked from ‘package:base’:\n",
      "\n",
      "    expand.grid, I, unname\n",
      "\n",
      "\n",
      "Loading required package: IRanges\n",
      "\n",
      "\n",
      "Attaching package: ‘IRanges’\n",
      "\n",
      "\n",
      "The following objects are masked from ‘package:dplyr’:\n",
      "\n",
      "    collapse, desc, slice\n",
      "\n",
      "\n",
      "Loading required package: GenomeInfoDb\n",
      "\n",
      "Loading required package: Biobase\n",
      "\n",
      "Welcome to Bioconductor\n",
      "\n",
      "    Vignettes contain introductory material; view with\n",
      "    'browseVignettes()'. To cite Bioconductor, see\n",
      "    'citation(\"Biobase\")', and for packages 'citation(\"pkgname\")'.\n",
      "\n",
      "\n",
      "\n",
      "Attaching package: ‘Biobase’\n",
      "\n",
      "\n",
      "The following object is masked from ‘package:MatrixGenerics’:\n",
      "\n",
      "    rowMedians\n",
      "\n",
      "\n",
      "The following objects are masked from ‘package:matrixStats’:\n",
      "\n",
      "    anyMissing, rowMedians\n",
      "\n",
      "\n"
     ]
    },
    {
     "name": "stdout",
     "output_type": "stream",
     "text": [
      "class: SingleCellExperiment \n",
      "dim: 1000 2696 \n",
      "metadata(0):\n",
      "assays(2): counts logcounts\n",
      "rownames(1000): Calb2 Gng4 ... Fndc5 Gda\n",
      "rowData names(0):\n",
      "colnames(2696): AAACAAGTATCTCCCA-1 AAACACCAATAACTGC-1 ...\n",
      "  TTGTTTCACATCCAGG-1 TTGTTTCCATACAACT-1\n",
      "colData names(12): orig.ident nCount_Spatial ... spatial2 cell_type\n",
      "reducedDimNames(0):\n",
      "mainExpName: NULL\n",
      "altExpNames(0):\n"
     ]
    }
   ],
   "source": [
    "example_sce <- readRDS((url(\"https://figshare.com/ndownloader/files/40582019\")))\n",
    "print(example_sce)"
   ]
  },
  {
   "cell_type": "code",
   "execution_count": 3,
   "id": "9f5bef70-ba5d-483f-be1e-5d3888245e66",
   "metadata": {},
   "outputs": [],
   "source": [
    "mt_idx<- grep(\"mt-\",rownames(example_sce))\n",
    "if(length(mt_idx)!=0){\n",
    "    example_sce <- example_sce[-mt_idx,]\n",
    "}"
   ]
  },
  {
   "cell_type": "code",
   "execution_count": 4,
   "id": "3eb57eb4-b6ec-4286-b247-cde98ad3d711",
   "metadata": {},
   "outputs": [],
   "source": [
    "set.seed(1)\n",
    "example_data <- construct_data(\n",
    "    sce = example_sce,\n",
    "    assay_use = \"counts\",\n",
    "    celltype = \"cell_type\",\n",
    "    pseudotime = NULL,\n",
    "    spatial = c(\"spatial1\", \"spatial2\"),\n",
    "    other_covariates = NULL,\n",
    "    corr_by = \"1\"\n",
    "  )"
   ]
  },
  {
   "cell_type": "code",
   "execution_count": 5,
   "id": "bec06d5a-1b78-4a28-9909-f66eccfc4861",
   "metadata": {},
   "outputs": [],
   "source": [
    "example_marginal <- fit_marginal(\n",
    "    data = example_data,\n",
    "    predictor = \"gene\",\n",
    "    mu_formula = \"s(spatial1, spatial2, bs = 'gp', k=50)\",\n",
    "    sigma_formula = \"1\",\n",
    "    family_use = \"nb\",\n",
    "    n_cores = 5,\n",
    "    usebam = FALSE\n",
    "  )\n",
    "\n",
    "# try bs='tp', s(, by='cell_type')"
   ]
  },
  {
   "cell_type": "code",
   "execution_count": 6,
   "id": "1353166b-5542-47ef-8d53-9be138aacda9",
   "metadata": {},
   "outputs": [
    {
     "name": "stderr",
     "output_type": "stream",
     "text": [
      "Convert Residuals to Multivariate Gaussian\n",
      "\n",
      "Converting End\n",
      "\n",
      "Copula group 1 starts\n",
      "\n"
     ]
    }
   ],
   "source": [
    "set.seed(1)\n",
    "example_copula <- fit_copula(\n",
    "    sce = example_sce,\n",
    "    assay_use = \"counts\",\n",
    "    marginal_list = example_marginal,\n",
    "    family_use = \"nb\",\n",
    "    copula = \"gaussian\",\n",
    "    n_cores = 2,\n",
    "    input_data = example_data$dat\n",
    "  )"
   ]
  },
  {
   "cell_type": "code",
   "execution_count": 7,
   "id": "3c4c88c2-d05e-478e-8746-b43d2a7ae688",
   "metadata": {},
   "outputs": [],
   "source": [
    "example_para <- extract_para(\n",
    "    sce = example_sce,\n",
    "    marginal_list = example_marginal,\n",
    "    n_cores = 5,\n",
    "    family_use = \"nb\",\n",
    "    new_covariate = example_data$newCovariate,\n",
    "    data = example_data$dat\n",
    "  )"
   ]
  },
  {
   "cell_type": "code",
   "execution_count": 8,
   "id": "a06d706f-bd15-4343-b263-7be95596656b",
   "metadata": {},
   "outputs": [],
   "source": [
    "dev_explain <- sapply(example_marginal, function(x){\n",
    "  sum = summary(x$fit)\n",
    "  return(sum$dev.expl)\n",
    "})\n",
    "dev_ordered <- order(dev_explain, decreasing = TRUE)"
   ]
  },
  {
   "cell_type": "code",
   "execution_count": 9,
   "id": "ed5f204c-2029-471b-8ed7-25840a8aa01b",
   "metadata": {},
   "outputs": [],
   "source": [
    "df_dev_explain <- as.data.frame(dev_explain)\n",
    "df_dev_explain$gene <- rownames(df_dev_explain)\n",
    "\n",
    "df_dev_explain$ranking <- rank(-df_dev_explain$dev_explain)\n",
    "\n",
    "write.csv(df_dev_explain, './scDesign3_v2/dev_explain.csv')"
   ]
  },
  {
   "cell_type": "code",
   "execution_count": 10,
   "id": "a6924811-b52b-42ef-9a27-dd571088512d",
   "metadata": {},
   "outputs": [
    {
     "data": {
      "text/html": [
       "<table class=\"dataframe\">\n",
       "<caption>A data.frame: 6 × 3</caption>\n",
       "<thead>\n",
       "\t<tr><th></th><th scope=col>dev_explain</th><th scope=col>gene</th><th scope=col>ranking</th></tr>\n",
       "\t<tr><th></th><th scope=col>&lt;dbl&gt;</th><th scope=col>&lt;chr&gt;</th><th scope=col>&lt;dbl&gt;</th></tr>\n",
       "</thead>\n",
       "<tbody>\n",
       "\t<tr><th scope=row>Calb2</th><td>0.7584198</td><td>Calb2 </td><td>13</td></tr>\n",
       "\t<tr><th scope=row>Gng4</th><td>0.7467810</td><td>Gng4  </td><td>16</td></tr>\n",
       "\t<tr><th scope=row>Ttr</th><td>0.9011457</td><td>Ttr   </td><td> 1</td></tr>\n",
       "\t<tr><th scope=row>S100a5</th><td>0.8998154</td><td>S100a5</td><td> 2</td></tr>\n",
       "\t<tr><th scope=row>Nrgn</th><td>0.6868249</td><td>Nrgn  </td><td>48</td></tr>\n",
       "\t<tr><th scope=row>Doc2g</th><td>0.7304346</td><td>Doc2g </td><td>20</td></tr>\n",
       "</tbody>\n",
       "</table>\n"
      ],
      "text/latex": [
       "A data.frame: 6 × 3\n",
       "\\begin{tabular}{r|lll}\n",
       "  & dev\\_explain & gene & ranking\\\\\n",
       "  & <dbl> & <chr> & <dbl>\\\\\n",
       "\\hline\n",
       "\tCalb2 & 0.7584198 & Calb2  & 13\\\\\n",
       "\tGng4 & 0.7467810 & Gng4   & 16\\\\\n",
       "\tTtr & 0.9011457 & Ttr    &  1\\\\\n",
       "\tS100a5 & 0.8998154 & S100a5 &  2\\\\\n",
       "\tNrgn & 0.6868249 & Nrgn   & 48\\\\\n",
       "\tDoc2g & 0.7304346 & Doc2g  & 20\\\\\n",
       "\\end{tabular}\n"
      ],
      "text/markdown": [
       "\n",
       "A data.frame: 6 × 3\n",
       "\n",
       "| <!--/--> | dev_explain &lt;dbl&gt; | gene &lt;chr&gt; | ranking &lt;dbl&gt; |\n",
       "|---|---|---|---|\n",
       "| Calb2 | 0.7584198 | Calb2  | 13 |\n",
       "| Gng4 | 0.7467810 | Gng4   | 16 |\n",
       "| Ttr | 0.9011457 | Ttr    |  1 |\n",
       "| S100a5 | 0.8998154 | S100a5 |  2 |\n",
       "| Nrgn | 0.6868249 | Nrgn   | 48 |\n",
       "| Doc2g | 0.7304346 | Doc2g  | 20 |\n",
       "\n"
      ],
      "text/plain": [
       "       dev_explain gene   ranking\n",
       "Calb2  0.7584198   Calb2  13     \n",
       "Gng4   0.7467810   Gng4   16     \n",
       "Ttr    0.9011457   Ttr     1     \n",
       "S100a5 0.8998154   S100a5  2     \n",
       "Nrgn   0.6868249   Nrgn   48     \n",
       "Doc2g  0.7304346   Doc2g  20     "
      ]
     },
     "metadata": {},
     "output_type": "display_data"
    }
   ],
   "source": [
    "head(df_dev_explain)"
   ]
  },
  {
   "cell_type": "code",
   "execution_count": 11,
   "id": "a832004b-8c45-4919-af1c-565ae1be7f8a",
   "metadata": {},
   "outputs": [
    {
     "data": {
      "image/png": "[encoded data removed]",
      "text/plain": [
       "plot without title"
      ]
     },
     "metadata": {
      "image/png": {
       "height": 300,
       "width": 480
      }
     },
     "output_type": "display_data"
    }
   ],
   "source": [
    "options(repr.plot.width = 8, repr.plot.height = 5)\n",
    "\n",
    "p <- ggplot(data = df_dev_explain, aes(x = ranking, y = dev_explain)) +\n",
    "    geom_point() +\n",
    "    geom_vline(xintercept = 50) +\n",
    "    geom_vline(xintercept = 100) +\n",
    "    geom_vline(xintercept = 150) +\n",
    "    geom_vline(xintercept = 200) +\n",
    "    theme_cowplot() +\n",
    "    xlab(\"Genes\") + ylab(\"deviation explained by GP\") +\n",
    "    theme(axis.text.x = element_blank())\n",
    "\n",
    "p"
   ]
  },
  {
   "cell_type": "code",
   "execution_count": 12,
   "id": "d23deba2-2eb4-43f4-b797-5c6b0f207331",
   "metadata": {},
   "outputs": [
    {
     "data": {
      "text/html": [
       "<table class=\"dataframe\">\n",
       "<caption>A data.frame: 6 × 3</caption>\n",
       "<thead>\n",
       "\t<tr><th></th><th scope=col>dev_explain</th><th scope=col>gene</th><th scope=col>ranking</th></tr>\n",
       "\t<tr><th></th><th scope=col>&lt;dbl&gt;</th><th scope=col>&lt;chr&gt;</th><th scope=col>&lt;dbl&gt;</th></tr>\n",
       "</thead>\n",
       "<tbody>\n",
       "\t<tr><th scope=row>Calb2</th><td>0.7584198</td><td>Calb2 </td><td>13</td></tr>\n",
       "\t<tr><th scope=row>Gng4</th><td>0.7467810</td><td>Gng4  </td><td>16</td></tr>\n",
       "\t<tr><th scope=row>Ttr</th><td>0.9011457</td><td>Ttr   </td><td> 1</td></tr>\n",
       "\t<tr><th scope=row>S100a5</th><td>0.8998154</td><td>S100a5</td><td> 2</td></tr>\n",
       "\t<tr><th scope=row>Nrgn</th><td>0.6868249</td><td>Nrgn  </td><td>48</td></tr>\n",
       "\t<tr><th scope=row>Doc2g</th><td>0.7304346</td><td>Doc2g </td><td>20</td></tr>\n",
       "</tbody>\n",
       "</table>\n"
      ],
      "text/latex": [
       "A data.frame: 6 × 3\n",
       "\\begin{tabular}{r|lll}\n",
       "  & dev\\_explain & gene & ranking\\\\\n",
       "  & <dbl> & <chr> & <dbl>\\\\\n",
       "\\hline\n",
       "\tCalb2 & 0.7584198 & Calb2  & 13\\\\\n",
       "\tGng4 & 0.7467810 & Gng4   & 16\\\\\n",
       "\tTtr & 0.9011457 & Ttr    &  1\\\\\n",
       "\tS100a5 & 0.8998154 & S100a5 &  2\\\\\n",
       "\tNrgn & 0.6868249 & Nrgn   & 48\\\\\n",
       "\tDoc2g & 0.7304346 & Doc2g  & 20\\\\\n",
       "\\end{tabular}\n"
      ],
      "text/markdown": [
       "\n",
       "A data.frame: 6 × 3\n",
       "\n",
       "| <!--/--> | dev_explain &lt;dbl&gt; | gene &lt;chr&gt; | ranking &lt;dbl&gt; |\n",
       "|---|---|---|---|\n",
       "| Calb2 | 0.7584198 | Calb2  | 13 |\n",
       "| Gng4 | 0.7467810 | Gng4   | 16 |\n",
       "| Ttr | 0.9011457 | Ttr    |  1 |\n",
       "| S100a5 | 0.8998154 | S100a5 |  2 |\n",
       "| Nrgn | 0.6868249 | Nrgn   | 48 |\n",
       "| Doc2g | 0.7304346 | Doc2g  | 20 |\n",
       "\n"
      ],
      "text/plain": [
       "       dev_explain gene   ranking\n",
       "Calb2  0.7584198   Calb2  13     \n",
       "Gng4   0.7467810   Gng4   16     \n",
       "Ttr    0.9011457   Ttr     1     \n",
       "S100a5 0.8998154   S100a5  2     \n",
       "Nrgn   0.6868249   Nrgn   48     \n",
       "Doc2g  0.7304346   Doc2g  20     "
      ]
     },
     "metadata": {},
     "output_type": "display_data"
    }
   ],
   "source": [
    "head(df_dev_explain)"
   ]
  },
  {
   "cell_type": "code",
   "execution_count": 13,
   "id": "9158615f-dd90-4b87-a461-8f476f6d9f93",
   "metadata": {},
   "outputs": [],
   "source": [
    "num_de = 100\n",
    "\n",
    "ordered <- dev_explain[dev_ordered]\n",
    "de_idx <- names(ordered)[1:num_de]\n",
    "non_de_idx <- names(ordered)[-(1:num_de)]\n",
    "non_de_mat <- apply(example_para$mean_mat[, non_de_idx], 2, function(x){\n",
    "    avg <- (max(x)+min(x))/2\n",
    "    new_mean <- rep(avg, length(x))\n",
    "    return(new_mean)\n",
    "})\n",
    "example_para$mean_mat[, non_de_idx] <- non_de_mat"
   ]
  },
  {
   "cell_type": "code",
   "execution_count": 14,
   "id": "81c1ef8b-c318-4252-a6d3-6cddbbfd56aa",
   "metadata": {},
   "outputs": [
    {
     "name": "stderr",
     "output_type": "stream",
     "text": [
      "Use Copula to sample a multivariate quantile matrix\n",
      "\n",
      "Sample Copula group 1 starts\n",
      "\n",
      "Use Copula to sample a multivariate quantile matrix\n",
      "\n",
      "Sample Copula group 1 starts\n",
      "\n",
      "Use Copula to sample a multivariate quantile matrix\n",
      "\n",
      "Sample Copula group 1 starts\n",
      "\n",
      "Use Copula to sample a multivariate quantile matrix\n",
      "\n",
      "Sample Copula group 1 starts\n",
      "\n",
      "Use Copula to sample a multivariate quantile matrix\n",
      "\n",
      "Sample Copula group 1 starts\n",
      "\n"
     ]
    }
   ],
   "source": [
    "for(seed in c(1, 2, 3, 4, 5)){\n",
    "        set.seed(seed)\n",
    "        example_newcount <- simu_new(\n",
    "            sce = example_sce,\n",
    "            mean_mat = example_para$mean_mat,\n",
    "            sigma_mat = example_para$sigma_mat,\n",
    "            zero_mat = example_para$zero_mat,\n",
    "            quantile_mat = NULL,\n",
    "            copula_list = example_copula$copula_list,\n",
    "            n_cores = 5,\n",
    "            family_use = \"nb\",\n",
    "            input_data = example_data$dat,\n",
    "            new_covariate = example_data$newCovariate,\n",
    "            important_feature = rep(TRUE, dim(example_sce)[1]),\n",
    "            filtered_gene = NULL\n",
    "          )\n",
    "\n",
    "        simu_sce <- SingleCellExperiment(list(counts =example_newcount), \n",
    "                                         colData = example_data$newCovariate)\n",
    "        loc = colData(simu_sce)[, c(\"spatial1\",\"spatial2\")]\n",
    "\n",
    "        write.csv(loc, file = \"./scDesign3_v2/location.csv\")\n",
    "        write.csv(example_newcount, file = glue::glue('./scDesign3_v2/counts_seed_{seed}.csv'))\n",
    "        write.csv(de_idx, file = glue::glue('./scDesign3_v2/labels_seed_{seed}.csv'))\n",
    "        write.csv(non_de_idx, file = glue::glue('./scDesign3_v2/labels_non_seed_{seed}.csv'))\n",
    "}"
   ]
  },
  {
   "cell_type": "code",
   "execution_count": 15,
   "id": "81ec5062-f67f-47b4-b469-117018fff193",
   "metadata": {
    "jupyter": {
     "source_hidden": true
    },
    "tags": []
   },
   "outputs": [],
   "source": [
    "# simu_sce <- SingleCellExperiment(list(counts =example_newcount), colData = example_data$newCovariate)\n",
    "# logcounts(simu_sce) <- log1p(counts(simu_sce))"
   ]
  },
  {
   "cell_type": "code",
   "execution_count": 16,
   "id": "1f7e93c1-7048-47f4-bf2e-580ff9f17573",
   "metadata": {
    "jupyter": {
     "source_hidden": true
    },
    "tags": []
   },
   "outputs": [],
   "source": [
    "# de_genes = de_idx[1:5]\n",
    "# loc = colData(simu_sce)[,c(\"spatial1\",\"spatial2\")]\n",
    "# expre = lapply(de_genes, function(x){\n",
    "#     curr = as.matrix(counts(simu_sce)[x,])\n",
    "#     curr = log1p(curr)\n",
    "#     return(rescale(curr))\n",
    "#   })\n",
    "# long = do.call(rbind, expre)\n",
    "# long = as.data.frame(long)\n",
    "# colnames(long) <- \"Expression\"\n",
    "# long$gene = do.call(c, lapply(de_genes, function(x){rep(x,dim(expre[[1]])[1])}))\n",
    "# long$x = rep(loc[,1],5)\n",
    "# long$y = rep(loc[,2],5)\n",
    "# as_tibble(long, rownames = \"Cell\") %>% ggplot(aes(x = x, y = y, color = Expression)) +\n",
    "# geom_point(size = 0.1)+facet_grid(~gene)+ scale_colour_gradientn(colors = viridis_pal(option = \"magma\")(10), limits=c(0, 1)) + coord_fixed(ratio = 1) + theme(axis.text.x = element_text(angle = 45))"
   ]
  }
 ],
 "metadata": {
  "kernelspec": {
   "display_name": "R [conda env:zl_svg]",
   "language": "R",
   "name": "conda-env-zl_svg-r"
  },
  "language_info": {
   "codemirror_mode": "r",
   "file_extension": ".r",
   "mimetype": "text/x-r-source",
   "name": "R",
   "pygments_lexer": "r",
   "version": "4.2.3"
  }
 },
 "nbformat": 4,
 "nbformat_minor": 5
}

{
 "cells": [
  {
   "cell_type": "code",
   "execution_count": 1,
   "id": "44fd18ef-2707-410d-8756-7d4b09a77a25",
   "metadata": {},
   "outputs": [],
   "source": [
    "import numpy as np\n",
    "import pandas as pd\n",
    "import scipy as sp\n",
    "import scanpy as sc\n",
    "import squidpy as sq\n",
    "import anndata as ad\n",
    "import seaborn as sns\n",
    "import simstpy as sim\n",
    "import matplotlib.pyplot as plt"
   ]
  },
  {
   "cell_type": "code",
   "execution_count": 2,
   "id": "4a283043-7f16-48c1-ae23-e074d4056668",
   "metadata": {},
   "outputs": [
    {
     "data": {
      "text/plain": [
       "'0.0.3'"
      ]
     },
     "execution_count": 2,
     "metadata": {},
     "output_type": "execute_result"
    }
   ],
   "source": [
    "sim.__version__"
   ]
  },
  {
   "cell_type": "code",
   "execution_count": 3,
   "id": "f5412502-e671-4c84-8686-d7bb54501e5e",
   "metadata": {},
   "outputs": [],
   "source": [
    "adata = sim.rna.sim_svgs(n_svgs=0, n_non_svgs=100, alpha=0, sigma=1, random_state=42, height=10, width=10)\n",
    "adata.write_h5ad(f\"./Scalability/n_spots_100.h5ad\")"
   ]
  },
  {
   "cell_type": "code",
   "execution_count": 4,
   "id": "9f9744e9-3588-4215-8a5c-df44550956ac",
   "metadata": {},
   "outputs": [],
   "source": [
    "adata = sim.rna.sim_svgs(n_svgs=0, n_non_svgs=100, alpha=0, sigma=1, random_state=42, height=25, width=20)\n",
    "adata.write_h5ad(f\"./Scalability/n_spots_500.h5ad\")"
   ]
  },
  {
   "cell_type": "code",
   "execution_count": 5,
   "id": "5c612ff9-7e4c-4551-97d0-d1fb7ae04726",
   "metadata": {},
   "outputs": [],
   "source": [
    "adata = sim.rna.sim_svgs(n_svgs=0, n_non_svgs=100, alpha=0, sigma=1, random_state=42, height=50, width=20)\n",
    "adata.write_h5ad(f\"./Scalability/n_spots_1000.h5ad\")"
   ]
  },
  {
   "cell_type": "code",
   "execution_count": 6,
   "id": "ca91ce9d-6cf2-463f-9973-866374ef4f49",
   "metadata": {},
   "outputs": [],
   "source": [
    "adata = sim.rna.sim_svgs(n_svgs=0, n_non_svgs=100, alpha=0, sigma=1, random_state=42, height=50, width=40)\n",
    "adata.write_h5ad(f\"./Scalability/n_spots_2000.h5ad\")"
   ]
  },
  {
   "cell_type": "code",
   "execution_count": 7,
   "id": "bac62bc0-dce8-4ea0-b127-62f8a1cf5171",
   "metadata": {},
   "outputs": [],
   "source": [
    "adata = sim.rna.sim_svgs(n_svgs=0, n_non_svgs=100, alpha=0, sigma=1, random_state=42, height=50, width=100)\n",
    "adata.write_h5ad(f\"./Scalability/n_spots_5000.h5ad\")"
   ]
  },
  {
   "cell_type": "code",
   "execution_count": 8,
   "id": "e1a97d2a-8e45-4af8-9e77-fa79b9a9efea",
   "metadata": {},
   "outputs": [],
   "source": [
    "adata = sim.rna.sim_svgs(n_svgs=0, n_non_svgs=100, alpha=0, sigma=1, random_state=42, height=75, width=100)\n",
    "adata.write_h5ad(f\"./Scalability/n_spots_7500.h5ad\")"
   ]
  },
  {
   "cell_type": "code",
   "execution_count": 9,
   "id": "23957302-1b56-4603-abd5-0f05f5a7aaa6",
   "metadata": {},
   "outputs": [],
   "source": [
    "adata = sim.rna.sim_svgs(n_svgs=0, n_non_svgs=100, alpha=0, sigma=1, random_state=42, height=100, width=100)\n",
    "adata.write_h5ad(f\"./Scalability/n_spots_10000.h5ad\")"
   ]
  },
  {
   "cell_type": "code",
   "execution_count": 10,
   "id": "2673a018-9f53-41f0-b1e8-21f159c50ec5",
   "metadata": {},
   "outputs": [],
   "source": [
    "adata = sim.rna.sim_svgs(n_svgs=0, n_non_svgs=100, alpha=0, sigma=1, random_state=42, height=150, width=100)\n",
    "adata.write_h5ad(f\"./Scalability/n_spots_15000.h5ad\")"
   ]
  },
  {
   "cell_type": "code",
   "execution_count": 11,
   "id": "16d13ca1-0524-4b19-8dd0-1ec63eb20a9b",
   "metadata": {},
   "outputs": [],
   "source": [
    "adata = sim.rna.sim_svgs(n_svgs=0, n_non_svgs=100, alpha=0, sigma=1, random_state=42, height=200, width=100)\n",
    "adata.write_h5ad(f\"./Scalability/n_spots_20000.h5ad\")"
   ]
  },
  {
   "cell_type": "code",
   "execution_count": 12,
   "id": "526bf4e8-5c89-477e-9087-784798c8c538",
   "metadata": {},
   "outputs": [],
   "source": [
    "adata = sim.rna.sim_svgs(n_svgs=0, n_non_svgs=100, alpha=0, sigma=1, random_state=42, height=200, width=200)\n",
    "adata.write_h5ad(f\"./Scalability/n_spots_40000.h5ad\")"
   ]
  }
 ],
 "metadata": {
  "kernelspec": {
   "display_name": "Python [conda env:zl_svg]",
   "language": "python",
   "name": "conda-env-zl_svg-py"
  },
  "language_info": {
   "codemirror_mode": {
    "name": "ipython",
    "version": 3
   },
   "file_extension": ".py",
   "mimetype": "text/x-python",
   "name": "python",
   "nbconvert_exporter": "python",
   "pygments_lexer": "ipython3",
   "version": "3.9.16"
  }
 },
 "nbformat": 4,
 "nbformat_minor": 5
}

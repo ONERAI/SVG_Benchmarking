{
 "cells": [
  {
   "cell_type": "code",
   "execution_count": 1,
   "id": "04b60cc6-eccd-46fc-b0b3-1f93e3149c5e",
   "metadata": {},
   "outputs": [],
   "source": [
    "import numpy as np\n",
    "import pandas as pd\n",
    "import scipy as sp\n",
    "import scanpy as sc\n",
    "import squidpy as sq\n",
    "import anndata as ad\n",
    "import seaborn as sns\n",
    "import matplotlib.pyplot as plt\n",
    "from anndata import AnnData"
   ]
  },
  {
   "cell_type": "code",
   "execution_count": 2,
   "id": "f0afe3e8-4230-4176-919a-77a6580c0df3",
   "metadata": {},
   "outputs": [],
   "source": [
    "coordinates = pd.read_csv(\"./scDesign3/location.csv\", index_col=0)"
   ]
  },
  {
   "cell_type": "code",
   "execution_count": 3,
   "id": "1e49bf79-12e2-4a03-ab70-be3e8c27338c",
   "metadata": {},
   "outputs": [],
   "source": [
    "for num_de in [50, 100, 150, 200]:\n",
    "    df_counts = pd.read_csv(f'./scDesign3/counts_svg_{num_de}.csv', index_col=0).transpose()\n",
    "    df_true_pos = pd.read_csv(f'./scDesign3/labels_svg_{num_de}.csv', index_col=0)\n",
    "    df_true_neg = pd.read_csv(f'./scDesign3/labels_non_svg_{num_de}.csv', index_col=0)\n",
    "    \n",
    "    df_true_pos['spatially_variable'] = True\n",
    "    df_true_neg['spatially_variable'] = False\n",
    "    \n",
    "    df_true = pd.concat([df_true_pos, df_true_neg])\n",
    "    df_true.set_index('x', inplace=True)\n",
    "    \n",
    "    df_true = df_true.loc[df_counts.columns, ]\n",
    "    \n",
    "    obs = pd.DataFrame(data={\"cells\": df_counts.index}, index=df_counts.index)    \n",
    "    counts = sp.sparse.csr_matrix(df_counts.values)\n",
    "    \n",
    "    adata = AnnData(counts, obs=obs, obsm={\"spatial\": coordinates.values}, var=df_true, dtype=np.float32)\n",
    "\n",
    "    adata.layers['counts'] = adata.X.copy()\n",
    "    spatial_key = \"spatial\"\n",
    "    library_id = \"tissue42\"\n",
    "    adata.uns[spatial_key] = {library_id: {}}\n",
    "    \n",
    "    sc.pp.normalize_total(adata)\n",
    "    sc.pp.log1p(adata)\n",
    "    \n",
    "    adata.write_h5ad(f'./scDesign3/svg_{num_de}.h5ad')"
   ]
  }
 ],
 "metadata": {
  "kernelspec": {
   "display_name": "Python [conda env:zl_svg]",
   "language": "python",
   "name": "conda-env-zl_svg-py"
  },
  "language_info": {
   "codemirror_mode": {
    "name": "ipython",
    "version": 3
   },
   "file_extension": ".py",
   "mimetype": "text/x-python",
   "name": "python",
   "nbconvert_exporter": "python",
   "pygments_lexer": "ipython3",
   "version": "3.9.16"
  }
 },
 "nbformat": 4,
 "nbformat_minor": 5
}

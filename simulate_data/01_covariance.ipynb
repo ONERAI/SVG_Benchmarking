{
 "cells": [
  {
   "cell_type": "code",
   "execution_count": 1,
   "id": "70e4d0a0-366f-4d38-95d6-1fb65f7da8a4",
   "metadata": {},
   "outputs": [],
   "source": [
    "import numpy as np\n",
    "import pandas as pd\n",
    "import scipy as sp\n",
    "import scanpy as sc\n",
    "import squidpy as sq\n",
    "import anndata as ad\n",
    "import seaborn as sns\n",
    "import simstpy as sim\n",
    "import matplotlib.pyplot as plt"
   ]
  },
  {
   "cell_type": "code",
   "execution_count": 2,
   "id": "0a293ace-b321-4874-a3c5-757f4f6e5511",
   "metadata": {},
   "outputs": [
    {
     "data": {
      "text/plain": [
       "'0.0.1'"
      ]
     },
     "execution_count": 2,
     "metadata": {},
     "output_type": "execute_result"
    }
   ],
   "source": [
    "sim.__version__"
   ]
  },
  {
   "cell_type": "code",
   "execution_count": null,
   "id": "9a8f848f-33a9-4b14-99f3-4b29e3c68f92",
   "metadata": {},
   "outputs": [
    {
     "name": "stdout",
     "output_type": "stream",
     "text": [
      "simulating data for sigma: 0.5 and alpha: 0.0\n"
     ]
    }
   ],
   "source": [
    "for sigma in [0.5, 1.0, 1.5, 2.0, 2.5, 3.0]:\n",
    "    for alpha in [0.0, 0.2, 0.4, 0.6, 0.8]:\n",
    "        print(f\"simulating data for sigma: {sigma} and alpha: {alpha}\")\n",
    "        adata = sim.rna.sim_svgs(n_svgs=100, n_non_svgs=100, alpha=alpha, sigma=sigma)\n",
    "        adata.layers['counts'] = adata.X.copy()\n",
    "        sc.pp.normalize_total(adata, target_sum=1e4)\n",
    "        sc.pp.log1p(adata)\n",
    "        adata.write_h5ad(f\"./Covariance/sigma_{sigma}_alpha_{alpha}.h5ad\")"
   ]
  },
  {
   "cell_type": "code",
   "execution_count": null,
   "id": "3b03705c-c3e7-44ba-9198-a0e4faa6adfb",
   "metadata": {},
   "outputs": [],
   "source": []
  }
 ],
 "metadata": {
  "kernelspec": {
   "display_name": "Python [conda env:zl_svg]",
   "language": "python",
   "name": "conda-env-zl_svg-py"
  },
  "language_info": {
   "codemirror_mode": {
    "name": "ipython",
    "version": 3
   },
   "file_extension": ".py",
   "mimetype": "text/x-python",
   "name": "python",
   "nbconvert_exporter": "python",
   "pygments_lexer": "ipython3",
   "version": "3.9.16"
  }
 },
 "nbformat": 4,
 "nbformat_minor": 5
}

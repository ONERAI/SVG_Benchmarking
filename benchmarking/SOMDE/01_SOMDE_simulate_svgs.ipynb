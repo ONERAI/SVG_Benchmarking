{
 "cells": [
  {
   "cell_type": "code",
   "execution_count": null,
   "id": "8021844f-cc55-42cd-b2bb-02cacbce251c",
   "metadata": {},
   "outputs": [],
   "source": [
    "import pandas as pd\n",
    "import numpy as np\n",
    "import matplotlib\n",
    "import matplotlib.pyplot as plt\n",
    "import scanpy as sc\n",
    "import squidpy as sq\n",
    "from somde import SomNode"
   ]
  },
  {
   "cell_type": "code",
   "execution_count": null,
   "id": "ac4e5eef-7a4b-472c-bfc3-16e31779f553",
   "metadata": {},
   "outputs": [],
   "source": [
    "for i in range(10):\n",
    "    adata = sc.read_h5ad(f\"../../data/simulation/svgs/adata_rep_{i}.h5ad\")\n",
    "    data = pd.DataFrame(adata.layers['counts'].todense(), columns=adata.var_names, index=adata.obs_names)\n",
    "    X = pd.DataFrame(adata.obsm['spatial'], index=adata.obs_names, columns=[\"x\", \"y\"])\n",
    "    som = SomNode(adata.obsm['spatial'], k=10)\n",
    "    ndf, ninfo = som.mtx(data.transpose())\n",
    "    nres = som.norm()\n",
    "    df, SVnum = som.run()\n",
    "    df.set_index(\"g\", inplace=True)\n",
    "    df = df.loc[adata.var_names]\n",
    "    df['spatially_variable'] = adata.var.spatially_variable.astype(np.int).values\n",
    "    df = df[['qval', 'spatially_variable']]\n",
    "    df.to_csv(f\"./svgs/rep_{i}.csv\")"
   ]
  }
 ],
 "metadata": {
  "kernelspec": {
   "display_name": "Python 3 (ipykernel)",
   "language": "python",
   "name": "python3"
  },
  "language_info": {
   "codemirror_mode": {
    "name": "ipython",
    "version": 3
   },
   "file_extension": ".py",
   "mimetype": "text/x-python",
   "name": "python",
   "nbconvert_exporter": "python",
   "pygments_lexer": "ipython3",
   "version": "3.9.16"
  }
 },
 "nbformat": 4,
 "nbformat_minor": 5
}

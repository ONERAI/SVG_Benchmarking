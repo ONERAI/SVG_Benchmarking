{
 "cells": [
  {
   "cell_type": "code",
   "execution_count": 2,
   "id": "e094a9a8-c118-434d-8704-cdc47f8c9e96",
   "metadata": {},
   "outputs": [
    {
     "name": "stderr",
     "output_type": "stream",
     "text": [
      "/home/rs619065/miniconda3/envs/r-4.1/lib/python3.8/site-packages/pysal/model/spvcm/abstracts.py:10: UserWarning: The `dill` module is required to use the sqlite backend fully.\n",
      "  from .sqlite import head_to_sql, start_sql\n"
     ]
    }
   ],
   "source": [
    "from scGCO import *\n",
    "import pandas as pd\n",
    "import numpy as np\n",
    "import matplotlib\n",
    "import matplotlib.pyplot as plt\n",
    "import scanpy as sc\n",
    "%matplotlib inline"
   ]
  },
  {
   "cell_type": "code",
   "execution_count": null,
   "id": "ddc82e9b-11eb-4e7a-abb1-12a19ab600be",
   "metadata": {},
   "outputs": [],
   "source": [
    "import warnings\n",
    "warnings.filterwarnings('ignore')"
   ]
  },
  {
   "cell_type": "code",
   "execution_count": null,
   "id": "5ca8dfa4-8e0e-4aed-a72d-0538bbceaef5",
   "metadata": {},
   "outputs": [],
   "source": [
    "adata = sc.read_h5ad(\"../../data/simulation/10X/simulated/151507.h5ad\")"
   ]
  },
  {
   "cell_type": "code",
   "execution_count": null,
   "id": "e68d8762-cc38-46c9-b4be-c98f42427561",
   "metadata": {},
   "outputs": [],
   "source": [
    "data = pd.DataFrame(adata.X.todense(), columns=adata.var_names, index=adata.obs_names)"
   ]
  },
  {
   "cell_type": "code",
   "execution_count": null,
   "id": "d31e24bb-4c99-4557-b8af-04b139052c2b",
   "metadata": {},
   "outputs": [],
   "source": [
    "exp = data.iloc[:, 0]\n",
    "locs = adata.obsm['spatial'].astype(np.int16)"
   ]
  },
  {
   "cell_type": "code",
   "execution_count": null,
   "id": "62504772-653e-4c23-ad66-ae02fc358cc4",
   "metadata": {},
   "outputs": [],
   "source": [
    "cellGraph = create_graph_with_weight(locs, exp)"
   ]
  },
  {
   "cell_type": "code",
   "execution_count": null,
   "id": "7e822abb-4ad5-40f1-a452-be04fb88db4e",
   "metadata": {},
   "outputs": [],
   "source": [
    "import time\n",
    "t0 = time.time()\n",
    "gmmDict = gmm_model(data) #multiGMM(data, random_state=20)\n",
    "t1= time.time()\n",
    "print(t1-t0, ' second')"
   ]
  },
  {
   "cell_type": "code",
   "execution_count": null,
   "id": "21b1b55b-69d6-4a79-9271-ea459472cbd5",
   "metadata": {},
   "outputs": [],
   "source": [
    "# t0= time.time()\n",
    "# result_df= identify_spatial_genes(locs, data, cellGraph, gmmDict)\n",
    "# print('Running time: {} seconds'.format(time.time()-t0))"
   ]
  }
 ],
 "metadata": {
  "kernelspec": {
   "display_name": "Python 3 (ipykernel)",
   "language": "python",
   "name": "python3"
  },
  "language_info": {
   "codemirror_mode": {
    "name": "ipython",
    "version": 3
   },
   "file_extension": ".py",
   "mimetype": "text/x-python",
   "name": "python",
   "nbconvert_exporter": "python",
   "pygments_lexer": "ipython3",
   "version": "3.8.12"
  }
 },
 "nbformat": 4,
 "nbformat_minor": 5
}

{
 "cells": [
  {
   "cell_type": "code",
   "execution_count": 2,
   "id": "858467f1-6843-4224-9e88-1bba86ed2ab6",
   "metadata": {},
   "outputs": [],
   "source": [
    "from scGCO import *\n",
    "import pandas as pd\n",
    "import numpy as np\n",
    "import matplotlib\n",
    "import matplotlib.pyplot as plt\n",
    "import scanpy as sc\n",
    "%matplotlib inline\n",
    "\n",
    "import warnings\n",
    "warnings.filterwarnings('ignore')"
   ]
  },
  {
   "cell_type": "code",
   "execution_count": null,
   "id": "261e5386-7e86-46d6-a62b-cbae2899d807",
   "metadata": {},
   "outputs": [],
   "source": [
    "for i in range(10):\n",
    "    adata = sc.read_h5ad(f\"../../data/simulation/svgs/adata_rep_{i}.h5ad\")\n",
    "    data = pd.DataFrame(adata.X.todense(), columns=adata.var_names, index=adata.obs_names)\n",
    "    exp = data.iloc[:, 0]\n",
    "    locs = adata.obsm['spatial'].astype(np.int16)\n",
    "    cellGraph = create_graph_with_weight(locs, exp)\n",
    "    gmmDict = gmm_model(data)\n",
    "    df = identify_spatial_genes(locs, data, cellGraph, gmmDict)\n",
    "    df = df.loc[adata.var_names]\n",
    "    df['spatially_variable'] = adata.var.spatially_variable.astype(np.int).values\n",
    "    df = df[['fdr', 'spatially_variable']]\n",
    "    df.to_csv(f\"./svgs/rep_{i}.csv\")"
   ]
  }
 ],
 "metadata": {
  "kernelspec": {
   "display_name": "Python 3 (ipykernel)",
   "language": "python",
   "name": "python3"
  },
  "language_info": {
   "codemirror_mode": {
    "name": "ipython",
    "version": 3
   },
   "file_extension": ".py",
   "mimetype": "text/x-python",
   "name": "python",
   "nbconvert_exporter": "python",
   "pygments_lexer": "ipython3",
   "version": "3.8.12"
  }
 },
 "nbformat": 4,
 "nbformat_minor": 5
}

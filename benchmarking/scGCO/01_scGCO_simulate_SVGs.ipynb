{
 "cells": [
  {
   "cell_type": "code",
   "execution_count": 1,
   "id": "858467f1-6843-4224-9e88-1bba86ed2ab6",
   "metadata": {},
   "outputs": [
    {
     "name": "stderr",
     "output_type": "stream",
     "text": [
      "/home/rs619065/miniconda3/envs/svg/lib/python3.9/site-packages/pysal/lib/weights/util.py:19: UserWarning: geopandas not available. Some functionality will be disabled.\n",
      "  warn('geopandas not available. Some functionality will be disabled.')\n",
      "/home/rs619065/miniconda3/envs/svg/lib/python3.9/site-packages/pysal/model/spvcm/abstracts.py:10: UserWarning: The `dill` module is required to use the sqlite backend fully.\n",
      "  from .sqlite import head_to_sql, start_sql\n"
     ]
    }
   ],
   "source": [
    "from scGCO import *\n",
    "import pandas as pd\n",
    "import numpy as np\n",
    "import matplotlib\n",
    "import matplotlib.pyplot as plt\n",
    "import scanpy as sc\n",
    "%matplotlib inline\n",
    "\n",
    "import warnings\n",
    "warnings.filterwarnings('ignore')"
   ]
  },
  {
   "cell_type": "code",
   "execution_count": null,
   "id": "261e5386-7e86-46d6-a62b-cbae2899d807",
   "metadata": {},
   "outputs": [
    {
     "name": "stdout",
     "output_type": "stream",
     "text": [
      "scGCO used 64 out of 128 cores\n"
     ]
    },
    {
     "data": {
      "application/vnd.jupyter.widget-view+json": {
       "model_id": "878f6bc201f44185874707b1ee8698d8",
       "version_major": 2,
       "version_minor": 0
      },
      "text/plain": [
       "  0%|          | 0/64 [00:00<?, ?it/s]"
      ]
     },
     "metadata": {},
     "output_type": "display_data"
    },
    {
     "name": "stdout",
     "output_type": "stream",
     "text": [
      "scGCO used 64 out of 128 cores\n"
     ]
    },
    {
     "data": {
      "application/vnd.jupyter.widget-view+json": {
       "model_id": "1da7476effb44824afcf896eee2e13ad",
       "version_major": 2,
       "version_minor": 0
      },
      "text/plain": [
       "  0%|          | 0/64 [00:00<?, ?it/s]"
      ]
     },
     "metadata": {},
     "output_type": "display_data"
    },
    {
     "name": "stdout",
     "output_type": "stream",
     "text": [
      "scGCO used 64 out of 128 cores\n"
     ]
    },
    {
     "data": {
      "application/vnd.jupyter.widget-view+json": {
       "model_id": "08fda7197745451aababf2b41cca097c",
       "version_major": 2,
       "version_minor": 0
      },
      "text/plain": [
       "  0%|          | 0/64 [00:00<?, ?it/s]"
      ]
     },
     "metadata": {},
     "output_type": "display_data"
    }
   ],
   "source": [
    "for i in range(10):\n",
    "    adata = sc.read_h5ad(f\"../../data/simulation/simulated/svgs_rep_{i}.h5ad\")\n",
    "    data = pd.DataFrame(adata.X.todense(), columns=adata.var_names, index=adata.obs_names)\n",
    "    exp = data.iloc[:, 0]\n",
    "    locs = adata.obsm['spatial'].astype(np.int16)\n",
    "    cellGraph = create_graph_with_weight(locs, exp)\n",
    "    gmmDict = gmm_model(data) # multiGMM\n",
    "    df = identify_spatial_genes(locs, data, cellGraph, gmmDict)\n",
    "    df = df.loc[adata.var_names]\n",
    "    df['spatially_variable'] = adata.var.spatially_variable.astype(np.int).values\n",
    "    df = df[['fdr', 'spatially_variable']]\n",
    "    df.to_csv(f\"./svgs/rep_{i}.csv\")"
   ]
  },
  {
   "cell_type": "code",
   "execution_count": null,
   "id": "0b3d85a2-384b-4e1f-b315-a3c215b23500",
   "metadata": {},
   "outputs": [],
   "source": []
  }
 ],
 "metadata": {
  "kernelspec": {
   "display_name": "Python 3 (ipykernel)",
   "language": "python",
   "name": "python3"
  },
  "language_info": {
   "codemirror_mode": {
    "name": "ipython",
    "version": 3
   },
   "file_extension": ".py",
   "mimetype": "text/x-python",
   "name": "python",
   "nbconvert_exporter": "python",
   "pygments_lexer": "ipython3",
   "version": "3.9.16"
  }
 },
 "nbformat": 4,
 "nbformat_minor": 5
}

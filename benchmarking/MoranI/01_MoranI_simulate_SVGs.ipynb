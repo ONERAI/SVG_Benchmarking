{
 "cells": [
  {
   "cell_type": "code",
   "execution_count": 1,
   "id": "e094a9a8-c118-434d-8704-cdc47f8c9e96",
   "metadata": {},
   "outputs": [],
   "source": [
    "import pandas as pd\n",
    "import numpy as np\n",
    "import matplotlib\n",
    "import matplotlib.pyplot as plt\n",
    "import scanpy as sc\n",
    "import squidpy as sq"
   ]
  },
  {
   "cell_type": "code",
   "execution_count": null,
   "id": "201f3f9d-2997-44b2-a6d5-e907d15c0112",
   "metadata": {},
   "outputs": [],
   "source": [
    "for i in range(10):\n",
    "    adata = sc.read_h5ad(f\"../../data/simulation/svgs/adata_rep_{i}.h5ad\")\n",
    "    sq.gr.spatial_neighbors(adata, coord_type=\"generic\", delaunay=True)\n",
    "    sq.gr.spatial_autocorr(\n",
    "        adata,\n",
    "        mode=\"moran\",\n",
    "        n_perms=100,\n",
    "        n_jobs=32)\n",
    "    df = adata.uns[\"moranI\"]\n",
    "    df = df.loc[adata.var_names]\n",
    "    df['spatially_variable'] = adata.var.spatially_variable.astype(np.int).values\n",
    "    df.to_csv(f\"./svgs/rep_{i}.csv\")"
   ]
  },
  {
   "cell_type": "code",
   "execution_count": null,
   "id": "1ec46239-79f9-4e52-a108-ff6d2707a984",
   "metadata": {},
   "outputs": [],
   "source": []
  }
 ],
 "metadata": {
  "kernelspec": {
   "display_name": "Python 3 (ipykernel)",
   "language": "python",
   "name": "python3"
  },
  "language_info": {
   "codemirror_mode": {
    "name": "ipython",
    "version": 3
   },
   "file_extension": ".py",
   "mimetype": "text/x-python",
   "name": "python",
   "nbconvert_exporter": "python",
   "pygments_lexer": "ipython3",
   "version": "3.8.12"
  }
 },
 "nbformat": 4,
 "nbformat_minor": 5
}

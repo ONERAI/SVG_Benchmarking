{
 "cells": [
  {
   "cell_type": "code",
   "execution_count": 3,
   "id": "1e37621a-488c-425c-a3a5-fc8d899c5977",
   "metadata": {},
   "outputs": [],
   "source": [
    "library(SPARK)\n",
    "library(anndata)"
   ]
  },
  {
   "cell_type": "code",
   "execution_count": null,
   "id": "c99f7a83-9f05-4fc1-9d34-0aa09508ad59",
   "metadata": {},
   "outputs": [],
   "source": [
    "for(i in c(0:9)){\n",
    "    adata <- read_h5ad(glue::glue(\"../../data/simulation/svgs/adata_rep_{i}.h5ad\"))\n",
    "    counts = t(as.matrix(adata$layers[['counts']]))\n",
    "    info <- as.data.frame(adata$obsm[['spatial']])\n",
    "    rownames(info) <- colnames(counts)\n",
    "    colnames(info) <- c(\"x\", \"y\")\n",
    "    info$total_counts = apply(counts, 2, sum)\n",
    "    \n",
    "    spark <- CreateSPARKObject(counts=counts, \n",
    "                            location=info[, 1:2])\n",
    "    spark@lib_size <- apply(spark@counts, 2, sum)\n",
    "    spark <- spark.vc(spark, \n",
    "                   covariates = NULL, \n",
    "                   lib_size = spark@lib_size, \n",
    "                   num_core = 20,\n",
    "                   verbose = F)\n",
    "    ## Calculating pval\n",
    "    spark <- spark.test(spark, \n",
    "                     check_positive = T, \n",
    "                     verbose = F)\n",
    "    \n",
    "    df_var <- adata$var\n",
    "    df_var$spatially_variable <- as.integer(df_var$spatially_variable)\n",
    "\n",
    "    df <- as.data.frame(spark@res_mtest)\n",
    "    df <- df[rownames(df_var), ]\n",
    "    df$spatially_variable <- as.integer(df_var$spatially_variable)\n",
    "    df <- df[, c(\"adjusted_pvalue\", \"spatially_variable\")]\n",
    "    \n",
    "    write.csv(df, file=glue::glue(\"./svgs/rep_{i}.csv\"), quote=FALSE)\n",
    "\n",
    "}"
   ]
  }
 ],
 "metadata": {
  "kernelspec": {
   "display_name": "R",
   "language": "R",
   "name": "ir"
  },
  "language_info": {
   "codemirror_mode": "r",
   "file_extension": ".r",
   "mimetype": "text/x-r-source",
   "name": "R",
   "pygments_lexer": "r",
   "version": "4.1.1"
  }
 },
 "nbformat": 4,
 "nbformat_minor": 5
}

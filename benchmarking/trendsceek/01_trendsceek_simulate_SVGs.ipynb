{
 "cells": [
  {
   "cell_type": "code",
   "execution_count": 1,
   "id": "ae16cb26-eefa-4229-a304-907f627aaf7e",
   "metadata": {
    "vscode": {
     "languageId": "r"
    }
   },
   "outputs": [
    {
     "ename": "ERROR",
     "evalue": "Error in library(spatstat): there is no package called ‘spatstat’\n",
     "output_type": "error",
     "traceback": [
      "Error in library(spatstat): there is no package called ‘spatstat’\nTraceback:\n",
      "1. suppressMessages(library(spatstat))",
      "2. withCallingHandlers(expr, message = function(c) if (inherits(c, \n .     classes)) tryInvokeRestart(\"muffleMessage\"))",
      "3. library(spatstat)"
     ]
    }
   ],
   "source": [
    "suppressMessages(library(spatstat))\n",
    "suppressMessages(library(trendsceek))\n",
    "suppressMessages(library(anndata))"
   ]
  },
  {
   "cell_type": "code",
   "execution_count": 10,
   "id": "7430906b-5953-4ba7-83ba-651f4b0b01fc",
   "metadata": {
    "vscode": {
     "languageId": "r"
    }
   },
   "outputs": [],
   "source": [
    "adata <- read_h5ad(glue::glue(\"../../data/simulation/svgs/adata_rep_0.h5ad\"))\n",
    "counts = t(as.matrix(adata$layers[['counts']]))"
   ]
  },
  {
   "cell_type": "code",
   "execution_count": 11,
   "id": "ece8208e-aec9-4a07-bddf-76845d67bfcd",
   "metadata": {
    "vscode": {
     "languageId": "r"
    }
   },
   "outputs": [
    {
     "ename": "ERROR",
     "evalue": "Error: 'rpoispp' is not an exported object from 'namespace:spatstat'\n",
     "output_type": "error",
     "traceback": [
      "Error: 'rpoispp' is not an exported object from 'namespace:spatstat'\nTraceback:\n",
      "1. sim_pois(300)"
     ]
    }
   ],
   "source": [
    "pp = sim_pois(300)"
   ]
  },
  {
   "cell_type": "code",
   "execution_count": null,
   "id": "139dcc91-3825-42bf-8cb3-cff82c87d3b2",
   "metadata": {
    "vscode": {
     "languageId": "r"
    }
   },
   "outputs": [],
   "source": [
    "##run trendsceek\n",
    "trendstat_list = trendsceek_test(counts, nrand = 100, ncores = 1)"
   ]
  },
  {
   "cell_type": "code",
   "execution_count": 5,
   "id": "f4afd1e0-cec4-41ea-a4d8-f0a7be4169ac",
   "metadata": {
    "vscode": {
     "languageId": "r"
    }
   },
   "outputs": [
    {
     "ename": "ERROR",
     "evalue": "Error: 'rpoispp' is not an exported object from 'namespace:spatstat'\n",
     "output_type": "error",
     "traceback": [
      "Error: 'rpoispp' is not an exported object from 'namespace:spatstat'\nTraceback:\n",
      "1. sim_pois(300)"
     ]
    }
   ],
   "source": [
    "##create synthetic dataset\n",
    "pp = sim_pois(300)\n",
    "low_expr = c(10, 10)\n",
    "high_expr = c(20, 50)\n",
    "pp = add_markdist_hotspot(pp, low_expr, high_expr)"
   ]
  },
  {
   "cell_type": "code",
   "execution_count": null,
   "id": "fabe7685-1260-4808-9999-6b002ac012a2",
   "metadata": {
    "vscode": {
     "languageId": "r"
    }
   },
   "outputs": [],
   "source": []
  },
  {
   "cell_type": "code",
   "execution_count": 6,
   "id": "ee5b6397-5525-4712-aa5b-fcee7ee8922a",
   "metadata": {
    "vscode": {
     "languageId": "r"
    }
   },
   "outputs": [
    {
     "data": {
      "text/html": [
       "\n",
       "<table width=\"100%\" summary=\"page for add_markdist_hotspot {trendsceek}\"><tr><td>add_markdist_hotspot {trendsceek}</td><td style=\"text-align: right;\">R Documentation</td></tr></table>\n",
       "\n",
       "<h2>Add hot-spot mark distributions to a point pattern</h2>\n",
       "\n",
       "<h3>Description</h3>\n",
       "\n",
       "<p><code>add_markdist_hotspot</code> adds squared hot-spot mark distributions to a point pattern.\n",
       "</p>\n",
       "\n",
       "\n",
       "<h3>Usage</h3>\n",
       "\n",
       "<pre>\n",
       "add_markdist_hotspot(pp, low_marks, high_marks, hotspot_size = 0.2)\n",
       "</pre>\n",
       "\n",
       "\n",
       "<h3>Arguments</h3>\n",
       "\n",
       "<table summary=\"R argblock\">\n",
       "<tr valign=\"top\"><td><code>pp</code></td>\n",
       "<td>\n",
       "<p>A point-pattern.</p>\n",
       "</td></tr>\n",
       "<tr valign=\"top\"><td><code>low_marks</code></td>\n",
       "<td>\n",
       "<p>A numeric or numeric vector specifying the lower value of the mark distribution. If a vector is given 'n' mark distributions are added where 'n' is the length of the vector.</p>\n",
       "</td></tr>\n",
       "<tr valign=\"top\"><td><code>high_marks</code></td>\n",
       "<td>\n",
       "<p>A numeric or numeric vector specifying the upper value of the mark distribution. If a vector is given 'n' mark distributions are added where 'n' is the length of the vector.</p>\n",
       "</td></tr>\n",
       "<tr valign=\"top\"><td><code>hotspot_size</code></td>\n",
       "<td>\n",
       "<p>A numeric specifying the relative size of the point-pattern window where the values of the marks will change from low to high.</p>\n",
       "</td></tr>\n",
       "</table>\n",
       "\n",
       "\n",
       "<h3>Value</h3>\n",
       "\n",
       "<p>A point-pattern with added mark distributions.\n",
       "</p>\n",
       "\n",
       "\n",
       "<h3>Examples</h3>\n",
       "\n",
       "<pre>\n",
       "low_expr = c(10, 10)\n",
       "high_expr = c(15, 20)\n",
       "pp = sim_pois(100)\n",
       "pp = add_markdist_hotspot(pp, low_expr, high_expr)\n",
       "\n",
       "</pre>\n",
       "\n",
       "<hr /><div style=\"text-align: center;\">[Package <em>trendsceek</em> version 1.0.0 ]</div>"
      ],
      "text/latex": [
       "\\inputencoding{utf8}\n",
       "\\HeaderA{add\\_markdist\\_hotspot}{Add hot-spot mark distributions to a point pattern}{add.Rul.markdist.Rul.hotspot}\n",
       "%\n",
       "\\begin{Description}\\relax\n",
       "\\code{add\\_markdist\\_hotspot} adds squared hot-spot mark distributions to a point pattern.\n",
       "\\end{Description}\n",
       "%\n",
       "\\begin{Usage}\n",
       "\\begin{verbatim}\n",
       "add_markdist_hotspot(pp, low_marks, high_marks, hotspot_size = 0.2)\n",
       "\\end{verbatim}\n",
       "\\end{Usage}\n",
       "%\n",
       "\\begin{Arguments}\n",
       "\\begin{ldescription}\n",
       "\\item[\\code{pp}] A point-pattern.\n",
       "\n",
       "\\item[\\code{low\\_marks}] A numeric or numeric vector specifying the lower value of the mark distribution. If a vector is given 'n' mark distributions are added where 'n' is the length of the vector.\n",
       "\n",
       "\\item[\\code{high\\_marks}] A numeric or numeric vector specifying the upper value of the mark distribution. If a vector is given 'n' mark distributions are added where 'n' is the length of the vector.\n",
       "\n",
       "\\item[\\code{hotspot\\_size}] A numeric specifying the relative size of the point-pattern window where the values of the marks will change from low to high.\n",
       "\\end{ldescription}\n",
       "\\end{Arguments}\n",
       "%\n",
       "\\begin{Value}\n",
       "A point-pattern with added mark distributions.\n",
       "\\end{Value}\n",
       "%\n",
       "\\begin{Examples}\n",
       "\\begin{ExampleCode}\n",
       "low_expr = c(10, 10)\n",
       "high_expr = c(15, 20)\n",
       "pp = sim_pois(100)\n",
       "pp = add_markdist_hotspot(pp, low_expr, high_expr)\n",
       "\n",
       "\\end{ExampleCode}\n",
       "\\end{Examples}"
      ],
      "text/plain": [
       "add_markdist_hotspot        package:trendsceek         R Documentation\n",
       "\n",
       "_\bA_\bd_\bd _\bh_\bo_\bt-_\bs_\bp_\bo_\bt _\bm_\ba_\br_\bk _\bd_\bi_\bs_\bt_\br_\bi_\bb_\bu_\bt_\bi_\bo_\bn_\bs _\bt_\bo _\ba _\bp_\bo_\bi_\bn_\bt _\bp_\ba_\bt_\bt_\be_\br_\bn\n",
       "\n",
       "_\bD_\be_\bs_\bc_\br_\bi_\bp_\bt_\bi_\bo_\bn:\n",
       "\n",
       "     ‘add_markdist_hotspot’ adds squared hot-spot mark distributions to\n",
       "     a point pattern.\n",
       "\n",
       "_\bU_\bs_\ba_\bg_\be:\n",
       "\n",
       "     add_markdist_hotspot(pp, low_marks, high_marks, hotspot_size = 0.2)\n",
       "     \n",
       "_\bA_\br_\bg_\bu_\bm_\be_\bn_\bt_\bs:\n",
       "\n",
       "      pp: A point-pattern.\n",
       "\n",
       "low_marks: A numeric or numeric vector specifying the lower value of\n",
       "          the mark distribution. If a vector is given 'n' mark\n",
       "          distributions are added where 'n' is the length of the\n",
       "          vector.\n",
       "\n",
       "high_marks: A numeric or numeric vector specifying the upper value of\n",
       "          the mark distribution. If a vector is given 'n' mark\n",
       "          distributions are added where 'n' is the length of the\n",
       "          vector.\n",
       "\n",
       "hotspot_size: A numeric specifying the relative size of the\n",
       "          point-pattern window where the values of the marks will\n",
       "          change from low to high.\n",
       "\n",
       "_\bV_\ba_\bl_\bu_\be:\n",
       "\n",
       "     A point-pattern with added mark distributions.\n",
       "\n",
       "_\bE_\bx_\ba_\bm_\bp_\bl_\be_\bs:\n",
       "\n",
       "     low_expr = c(10, 10)\n",
       "     high_expr = c(15, 20)\n",
       "     pp = sim_pois(100)\n",
       "     pp = add_markdist_hotspot(pp, low_expr, high_expr)\n",
       "     "
      ]
     },
     "metadata": {},
     "output_type": "display_data"
    }
   ],
   "source": [
    "?add_markdist_hotspot"
   ]
  },
  {
   "cell_type": "code",
   "execution_count": null,
   "id": "c712011c-86af-4db2-bf8d-959d666a146e",
   "metadata": {
    "vscode": {
     "languageId": "r"
    }
   },
   "outputs": [],
   "source": []
  }
 ],
 "metadata": {
  "kernelspec": {
   "display_name": "R",
   "language": "R",
   "name": "ir"
  },
  "language_info": {
   "codemirror_mode": "r",
   "file_extension": ".r",
   "mimetype": "text/x-r-source",
   "name": "R",
   "pygments_lexer": "r",
   "version": "4.2.2"
  }
 },
 "nbformat": 4,
 "nbformat_minor": 5
}

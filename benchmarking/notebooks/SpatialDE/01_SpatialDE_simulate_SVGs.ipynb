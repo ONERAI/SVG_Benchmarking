{
 "cells": [
  {
   "cell_type": "code",
   "execution_count": 1,
   "id": "e39a57a5-46d5-4c6e-81ae-ef191347fca7",
   "metadata": {},
   "outputs": [
    {
     "name": "stdout",
     "output_type": "stream",
     "text": [
      "Populating the interactive namespace from numpy and matplotlib\n"
     ]
    }
   ],
   "source": [
    "%pylab inline\n",
    "import pandas as pd\n",
    "import numpy as np\n",
    "import matplotlib\n",
    "import matplotlib.pyplot as plt\n",
    "import scanpy as sc\n",
    "\n",
    "rcParams['axes.spines.right'] = False\n",
    "rcParams['axes.spines.top'] = False\n",
    "\n",
    "import NaiveDE\n",
    "import SpatialDE"
   ]
  },
  {
   "cell_type": "code",
   "execution_count": null,
   "id": "3af41b8c-08a7-4bf0-99f0-43563b913b96",
   "metadata": {},
   "outputs": [],
   "source": [
    "for i in range(10):\n",
    "    adata = sc.read_h5ad(f\"../../data/simulation/svgs/adata_rep_{i}.h5ad\")\n",
    "    adata.obs.set_index('obs_ids', inplace=True)\n",
    "    adata.obs['x'] = adata.obsm['spatial'][:, 0]\n",
    "    adata.obs['y'] = adata.obsm['spatial'][:, 1]\n",
    "    adata.obs['total_counts'] = adata.layers['counts'].sum(axis=1)\n",
    "    adata.obs.head()\n",
    "    counts = adata.layers['counts'].todense().astype(np.float32)\n",
    "    counts = pd.DataFrame(data=counts, index=adata.obs_names, columns=adata.var_names)\n",
    "    norm_expr = NaiveDE.stabilize(counts.T).T\n",
    "    resid_expr = NaiveDE.regress_out(adata.obs, norm_expr.T, 'np.log(total_counts)').T\n",
    "    X = adata.obs[['x', 'y']]\n",
    "    df = SpatialDE.run(X, resid_expr)\n",
    "    df.set_index(\"g\", inplace=True)\n",
    "    df = df.loc[adata.var_names]\n",
    "    df['spatially_variable'] = adata.var.spatially_variable.astype(np.int).values\n",
    "    df = df[['qval', 'spatially_variable']]\n",
    "    df.to_csv(f\"./svgs/rep_{i}.csv\")"
   ]
  },
  {
   "cell_type": "code",
   "execution_count": null,
   "id": "7920a95f-e043-424f-b227-4c03057e6a7e",
   "metadata": {},
   "outputs": [],
   "source": []
  }
 ],
 "metadata": {
  "kernelspec": {
   "display_name": "Python 3 (ipykernel)",
   "language": "python",
   "name": "python3"
  },
  "language_info": {
   "codemirror_mode": {
    "name": "ipython",
    "version": 3
   },
   "file_extension": ".py",
   "mimetype": "text/x-python",
   "name": "python",
   "nbconvert_exporter": "python",
   "pygments_lexer": "ipython3",
   "version": "3.9.16"
  }
 },
 "nbformat": 4,
 "nbformat_minor": 5
}

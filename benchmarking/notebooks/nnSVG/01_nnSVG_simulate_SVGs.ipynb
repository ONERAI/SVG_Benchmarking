{
 "cells": [
  {
   "cell_type": "code",
   "execution_count": 1,
   "id": "81a173ab-4fb6-46a0-ab70-3d6b6636c412",
   "metadata": {
    "tags": [],
    "vscode": {
     "languageId": "r"
    }
   },
   "outputs": [],
   "source": [
    "suppressMessages(library(SpatialExperiment))\n",
    "suppressMessages(library(scran))\n",
    "suppressMessages(library(nnSVG))\n",
    "suppressMessages(library(ggplot2))\n",
    "suppressMessages(library(anndata))"
   ]
  },
  {
   "cell_type": "code",
   "execution_count": 5,
   "id": "334a4e80-ed7f-4437-9db8-3570bbc120c4",
   "metadata": {
    "vscode": {
     "languageId": "r"
    }
   },
   "outputs": [],
   "source": [
    "adata <- read_h5ad(glue::glue(\"../../data/simulation/simulated/svgs_rep_0.h5ad\"))\n",
    "counts <- t(as.matrix(adata$X))\n",
    "loc <- as.data.frame(adata$obsm[['spatial']])"
   ]
  },
  {
   "cell_type": "code",
   "execution_count": 6,
   "id": "ba55709a",
   "metadata": {
    "vscode": {
     "languageId": "r"
    }
   },
   "outputs": [],
   "source": [
    "spe <- nnSVG(counts, loc, n_threads=30)"
   ]
  }
 ],
 "metadata": {
  "kernelspec": {
   "display_name": "R",
   "language": "R",
   "name": "ir"
  },
  "language_info": {
   "codemirror_mode": "r",
   "file_extension": ".r",
   "mimetype": "text/x-r-source",
   "name": "R",
   "pygments_lexer": "r",
   "version": "4.2.2"
  }
 },
 "nbformat": 4,
 "nbformat_minor": 5
}

{
 "cells": [
  {
   "cell_type": "code",
   "execution_count": 30,
   "id": "81a173ab-4fb6-46a0-ab70-3d6b6636c412",
   "metadata": {
    "tags": [],
    "vscode": {
     "languageId": "r"
    }
   },
   "outputs": [],
   "source": [
    "suppressMessages(library(SpatialExperiment))\n",
    "suppressMessages(library(scran))\n",
    "suppressMessages(library(STexampleData))\n",
    "suppressMessages(library(nnSVG))\n",
    "suppressMessages(library(ggplot2))\n",
    "suppressMessages(library(anndata))"
   ]
  },
  {
   "cell_type": "code",
   "execution_count": 34,
   "id": "334a4e80-ed7f-4437-9db8-3570bbc120c4",
   "metadata": {
    "vscode": {
     "languageId": "r"
    }
   },
   "outputs": [],
   "source": [
    "adata <- read_h5ad(glue::glue(\"../../../data/simulation/simulated/svgs_rep_0.h5ad\"))\n",
    "counts <- t(as.matrix(adata$layers['counts']))\n",
    "loc <- as.data.frame(adata$obsm[['spatial']])\n",
    "\n",
    "row_data = adata$var\n",
    "row_data$gene_id = rownames(row_data)\n",
    "row_data$feature_type = \"Gene Expression\"\n",
    "\n",
    "colnames(loc) <- c(\"x\", \"y\")\n",
    "rownames(loc) <- colnames(counts)"
   ]
  },
  {
   "cell_type": "code",
   "execution_count": 41,
   "id": "3db6746b",
   "metadata": {
    "vscode": {
     "languageId": "r"
    }
   },
   "outputs": [],
   "source": [
    "spe <- SpatialExperiment(\n",
    "    assays = list(counts = counts),\n",
    "    rowData = row_data,\n",
    "    colData = loc, \n",
    "    spatialCoordsNames = c(\"x\", \"y\"))\n",
    "\n",
    "# calculate logcounts (log-transformed normalized counts) using scran package\n",
    "# using library size factors\n",
    "spe <- computeLibraryFactors(spe)\n",
    "spe <- logNormCounts(spe)"
   ]
  },
  {
   "cell_type": "code",
   "execution_count": 43,
   "id": "ba55709a",
   "metadata": {
    "vscode": {
     "languageId": "r"
    }
   },
   "outputs": [],
   "source": [
    "set.seed(123)\n",
    "spe <- nnSVG(spe, n_threads=10)"
   ]
  },
  {
   "cell_type": "code",
   "execution_count": 46,
   "id": "9f95c6b9",
   "metadata": {
    "vscode": {
     "languageId": "r"
    }
   },
   "outputs": [],
   "source": [
    "df <- rowData(sep)"
   ]
  },
  {
   "cell_type": "code",
   "execution_count": 47,
   "id": "dd09620e",
   "metadata": {
    "vscode": {
     "languageId": "r"
    }
   },
   "outputs": [
    {
     "data": {
      "text/plain": [
       "DataFrame with 250 rows and 17 columns\n",
       "         spatially_variable     gene_id    feature_type  sigma.sq      tau.sq\n",
       "                  <logical> <character>     <character> <numeric>   <numeric>\n",
       "gene_0                 TRUE      gene_0 Gene Expression  1.820036 1.82004e-08\n",
       "gene_1                 TRUE      gene_1 Gene Expression  1.816454 8.20653e-02\n",
       "gene_2                 TRUE      gene_2 Gene Expression  3.723682 2.46985e-02\n",
       "gene_3                 TRUE      gene_3 Gene Expression  1.937818 1.93782e-08\n",
       "gene_4                 TRUE      gene_4 Gene Expression  0.867149 7.41265e-02\n",
       "...                     ...         ...             ...       ...         ...\n",
       "gene_245              FALSE    gene_245 Gene Expression 0.0278161     2.07017\n",
       "gene_246              FALSE    gene_246 Gene Expression 0.0233523     2.11973\n",
       "gene_247              FALSE    gene_247 Gene Expression 0.0122529     2.01584\n",
       "gene_248              FALSE    gene_248 Gene Expression 0.3777787     1.68845\n",
       "gene_249              FALSE    gene_249 Gene Expression 0.0224263     2.06642\n",
       "                phi    loglik   runtime      mean       var     spcov   prop_sv\n",
       "          <numeric> <numeric> <numeric> <numeric> <numeric> <numeric> <numeric>\n",
       "gene_0     11.29297  -2556.90     2.222   4.72660   1.81660  0.285424  1.000000\n",
       "gene_1      2.51591  -1612.15     3.039   4.79932   1.38784  0.280823  0.956774\n",
       "gene_2      1.42818  -1234.40     1.974   5.81539   2.81608  0.331824  0.993411\n",
       "gene_3     18.67345  -3198.01     2.067   4.61418   1.59391  0.301690  1.000000\n",
       "gene_4      3.58883  -1307.18     2.139   4.52791   1.14362  0.205660  0.921249\n",
       "...             ...       ...       ...       ...       ...       ...       ...\n",
       "gene_245  17.744631  -4473.04     1.042   4.65466   2.09862 0.0358311 0.0132584\n",
       "gene_246  19.339262  -4499.83     1.134   4.66098   2.14363 0.0327859 0.0108966\n",
       "gene_247  64.549585  -4431.21     1.027   4.65617   2.02860 0.0237734 0.0060416\n",
       "gene_248 103.008558  -4453.10     1.781   4.60786   2.06713 0.1333888 0.1828350\n",
       "gene_249   0.287293  -4466.83     1.576   4.63804   2.08983 0.0322882 0.0107362\n",
       "         loglik_lm   LR_stat      rank      pval      padj\n",
       "         <numeric> <numeric> <numeric> <numeric> <numeric>\n",
       "gene_0    -4293.06   3472.31        34         0         0\n",
       "gene_1    -3956.53   4688.76        26         0         0\n",
       "gene_2    -4841.03   7213.26         5         0         0\n",
       "gene_3    -4129.59   1863.15        49         0         0\n",
       "gene_4    -3714.59   4814.83        25         0         0\n",
       "...            ...       ...       ...       ...       ...\n",
       "gene_245  -4473.44  0.811935       101  0.666332  1.000000\n",
       "gene_246  -4499.97  0.292868       126  0.863783  1.000000\n",
       "gene_247  -4431.03 -0.357629       248  1.000000  1.000000\n",
       "gene_248  -4454.55  2.896390        67  0.234994  0.876844\n",
       "gene_249  -4468.20  2.727126        68  0.255748  0.940250"
      ]
     },
     "metadata": {},
     "output_type": "display_data"
    }
   ],
   "source": [
    "df"
   ]
  },
  {
   "cell_type": "code",
   "execution_count": 48,
   "id": "22ad23ae",
   "metadata": {
    "vscode": {
     "languageId": "r"
    }
   },
   "outputs": [
    {
     "data": {
      "text/html": [
       "<style>\n",
       ".list-inline {list-style: none; margin:0; padding: 0}\n",
       ".list-inline>li {display: inline-block}\n",
       ".list-inline>li:not(:last-child)::after {content: \"\\00b7\"; padding: 0 .5ex}\n",
       "</style>\n",
       "<ol class=list-inline><li>'spatially_variable'</li><li>'gene_id'</li><li>'feature_type'</li><li>'sigma.sq'</li><li>'tau.sq'</li><li>'phi'</li><li>'loglik'</li><li>'runtime'</li><li>'mean'</li><li>'var'</li><li>'spcov'</li><li>'prop_sv'</li><li>'loglik_lm'</li><li>'LR_stat'</li><li>'rank'</li><li>'pval'</li><li>'padj'</li></ol>\n"
      ],
      "text/latex": [
       "\\begin{enumerate*}\n",
       "\\item 'spatially\\_variable'\n",
       "\\item 'gene\\_id'\n",
       "\\item 'feature\\_type'\n",
       "\\item 'sigma.sq'\n",
       "\\item 'tau.sq'\n",
       "\\item 'phi'\n",
       "\\item 'loglik'\n",
       "\\item 'runtime'\n",
       "\\item 'mean'\n",
       "\\item 'var'\n",
       "\\item 'spcov'\n",
       "\\item 'prop\\_sv'\n",
       "\\item 'loglik\\_lm'\n",
       "\\item 'LR\\_stat'\n",
       "\\item 'rank'\n",
       "\\item 'pval'\n",
       "\\item 'padj'\n",
       "\\end{enumerate*}\n"
      ],
      "text/markdown": [
       "1. 'spatially_variable'\n",
       "2. 'gene_id'\n",
       "3. 'feature_type'\n",
       "4. 'sigma.sq'\n",
       "5. 'tau.sq'\n",
       "6. 'phi'\n",
       "7. 'loglik'\n",
       "8. 'runtime'\n",
       "9. 'mean'\n",
       "10. 'var'\n",
       "11. 'spcov'\n",
       "12. 'prop_sv'\n",
       "13. 'loglik_lm'\n",
       "14. 'LR_stat'\n",
       "15. 'rank'\n",
       "16. 'pval'\n",
       "17. 'padj'\n",
       "\n",
       "\n"
      ],
      "text/plain": [
       " [1] \"spatially_variable\" \"gene_id\"            \"feature_type\"      \n",
       " [4] \"sigma.sq\"           \"tau.sq\"             \"phi\"               \n",
       " [7] \"loglik\"             \"runtime\"            \"mean\"              \n",
       "[10] \"var\"                \"spcov\"              \"prop_sv\"           \n",
       "[13] \"loglik_lm\"          \"LR_stat\"            \"rank\"              \n",
       "[16] \"pval\"               \"padj\"              "
      ]
     },
     "metadata": {},
     "output_type": "display_data"
    }
   ],
   "source": [
    "colnames(df)"
   ]
  },
  {
   "cell_type": "code",
   "execution_count": null,
   "id": "8ad20946",
   "metadata": {
    "vscode": {
     "languageId": "r"
    }
   },
   "outputs": [],
   "source": []
  }
 ],
 "metadata": {
  "kernelspec": {
   "display_name": "R",
   "language": "R",
   "name": "ir"
  },
  "language_info": {
   "codemirror_mode": "r",
   "file_extension": ".r",
   "mimetype": "text/x-r-source",
   "name": "R",
   "pygments_lexer": "r",
   "version": "4.2.2"
  }
 },
 "nbformat": 4,
 "nbformat_minor": 5
}

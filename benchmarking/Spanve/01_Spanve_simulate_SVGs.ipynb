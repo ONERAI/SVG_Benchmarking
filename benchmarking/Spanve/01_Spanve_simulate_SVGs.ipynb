{
 "cells": [
  {
   "cell_type": "code",
   "execution_count": null,
   "id": "c0c57ef6-c37a-4c92-b746-f6ffde5a7803",
   "metadata": {},
   "outputs": [],
   "source": [
    "from Spanve import Spanve\n",
    "from Spanve import adata_preprocess_int\n",
    "import scanpy as sc\n",
    "import numpy as np"
   ]
  },
  {
   "cell_type": "code",
   "execution_count": null,
   "id": "2e7c8046-3011-4571-a666-b9ff55c39cf4",
   "metadata": {},
   "outputs": [],
   "source": [
    "for i in range(10):\n",
    "    adata = sc.read_h5ad(f\"../../data/simulation/svgs/adata_rep_{i}.h5ad\")\n",
    "    adata.X = adata.layers['counts'].todense().astype(int).copy()\n",
    "    adata.X = np.asarray(adata.X)\n",
    "    \n",
    "    spanve = Spanve(adata)\n",
    "    spanve.fit(verbose=True)\n",
    "    df = spanve.result_df\n",
    "\n",
    "    df = df.loc[adata.var_names]\n",
    "    df['spatially_variable'] = adata.var.spatially_variable.astype(np.int).values\n",
    "    df = df[['fdrs', 'spatially_variable']]\n",
    "    df.to_csv(f\"./svgs/rep_{i}.csv\")"
   ]
  },
  {
   "cell_type": "code",
   "execution_count": null,
   "id": "823fcf83-8e2e-4eaa-bde8-e7d983a5129a",
   "metadata": {},
   "outputs": [],
   "source": [
    "# adata = sc.read_h5ad(f\"../../data/simulation/svgs/adata_rep_0.h5ad\")\n",
    "# adata.X = adata.layers['counts'].todense().astype(int).copy()\n",
    "# adata.X = np.asarray(adata.X)"
   ]
  },
  {
   "cell_type": "code",
   "execution_count": null,
   "id": "f262b21b-bd16-4bff-8808-7658079b7dc5",
   "metadata": {},
   "outputs": [],
   "source": [
    "# spanve = Spanve(adata)\n",
    "# spanve.fit(verbose=True)\n",
    "# df = spanve.result_df\n",
    "# df = df.loc[adata.var_names]\n",
    "# df['spatially_variable'] = adata.var.spatially_variable.astype(np.int).values\n",
    "# df = df[['fdrs', 'spatially_variable']]\n",
    "# df.to_csv(f\"./svgs/rep_{i}.csv\")"
   ]
  },
  {
   "cell_type": "code",
   "execution_count": null,
   "id": "4bc76053-c547-4ca5-b6fa-f6ffdd904c5a",
   "metadata": {},
   "outputs": [],
   "source": []
  }
 ],
 "metadata": {
  "kernelspec": {
   "display_name": "Python 3 (ipykernel)",
   "language": "python",
   "name": "python3"
  },
  "language_info": {
   "codemirror_mode": {
    "name": "ipython",
    "version": 3
   },
   "file_extension": ".py",
   "mimetype": "text/x-python",
   "name": "python",
   "nbconvert_exporter": "python",
   "pygments_lexer": "ipython3",
   "version": "3.8.12"
  }
 },
 "nbformat": 4,
 "nbformat_minor": 5
}

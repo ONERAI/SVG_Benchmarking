{
 "cells": [
  {
   "cell_type": "code",
   "execution_count": 5,
   "id": "d3793c4a-c071-4be0-ab6e-d22b3a427a2c",
   "metadata": {},
   "outputs": [],
   "source": [
    "library(anndata)\n",
    "library(RcppDist)\n",
    "source(\"R/boost.gp.R\")"
   ]
  },
  {
   "cell_type": "code",
   "execution_count": null,
   "id": "fb33f60e-d4d2-4dfb-92b2-1ddb95d6d38d",
   "metadata": {},
   "outputs": [],
   "source": [
    "for(i in c(0:9)){\n",
    "    adata <- read_h5ad(glue::glue(\"../../data/simulation/simulated/svgs_rep_{i}.h5ad\"))\n",
    "    counts = as.matrix(adata$layers[['counts']])\n",
    "    loc <- as.data.frame(adata$obsm[['spatial']])\n",
    "    \n",
    "    df <- as.data.frame(boost.gp(Y = counts, loc = loc, iter=100, burn=50))\n",
    "    \n",
    "    df_var <- adata$var\n",
    "    df_var$spatially_variable <- as.integer(df_var$spatially_variable)\n",
    "\n",
    "    df <- df[rownames(df_var), ]\n",
    "    df$spatially_variable <- as.integer(df_var$spatially_variable)\n",
    "    df <- df[, c(\"pval\", \"spatially_variable\")]\n",
    "    \n",
    "    write.csv(df, file=glue::glue(\"./svgs/rep_{i}.csv\"), quote=FALSE)\n",
    "\n",
    "}"
   ]
  },
  {
   "cell_type": "code",
   "execution_count": null,
   "id": "ba4bdad4-bf31-401e-9ddd-7ad5f7a03ffc",
   "metadata": {},
   "outputs": [],
   "source": []
  }
 ],
 "metadata": {
  "kernelspec": {
   "display_name": "R",
   "language": "R",
   "name": "ir"
  },
  "language_info": {
   "codemirror_mode": "r",
   "file_extension": ".r",
   "mimetype": "text/x-r-source",
   "name": "R",
   "pygments_lexer": "r",
   "version": "4.2.2"
  }
 },
 "nbformat": 4,
 "nbformat_minor": 5
}

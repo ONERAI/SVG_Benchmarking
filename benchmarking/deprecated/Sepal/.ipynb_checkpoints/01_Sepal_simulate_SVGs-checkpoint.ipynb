{
 "cells": [
  {
   "cell_type": "code",
   "execution_count": null,
   "id": "b9ddc9c3-86c5-4285-ae13-59df5760aa79",
   "metadata": {},
   "outputs": [],
   "source": [
    "# Imports\n",
    "%load_ext autoreload\n",
    "%autoreload 2\n",
    "\n",
    "import numpy as np\n",
    "import pandas as pd\n",
    "import matplotlib.pyplot as plt\n",
    "\n",
    "import sepal\n",
    "import sepal.datasets as d\n",
    "import sepal.models as m\n",
    "import sepal.utils as ut\n",
    "import sepal.family as family\n",
    "import sepal.enrich as fea\n",
    "import scanpy as sc\n",
    "import squidpy as sq"
   ]
  },
  {
   "cell_type": "code",
   "execution_count": null,
   "id": "743c001e-11a2-4acf-9cd4-1b3b50fc86c1",
   "metadata": {},
   "outputs": [],
   "source": [
    "for i in range(10):\n",
    "    adata = sc.read_h5ad(f\"../../data/simulation/svgs/adata_rep_{i}.h5ad\")\n",
    "    sq.gr.spatial_neighbors(adata, coord_type=\"grid\")\n",
    "    sq.gr.sepal(adata, max_neighs=4, genes=adata.var_names, n_jobs=1)\n",
    "    df = adata.uns[\"sepal_score\"]\n",
    "    df = df.loc[adata.var_names]\n",
    "    df['spatially_variable'] = adata.var.spatially_variable.astype(np.int).values\n",
    "    df = df[['sepal_score', 'spatially_variable']]\n",
    "    df.to_csv(f\"./svgs/rep_{i}.csv\")"
   ]
  },
  {
   "cell_type": "code",
   "execution_count": null,
   "id": "0b87e281-17dc-42a5-90f2-a3c262e8fcb1",
   "metadata": {},
   "outputs": [],
   "source": []
  }
 ],
 "metadata": {
  "kernelspec": {
   "display_name": "Python 3 (ipykernel)",
   "language": "python",
   "name": "python3"
  },
  "language_info": {
   "codemirror_mode": {
    "name": "ipython",
    "version": 3
   },
   "file_extension": ".py",
   "mimetype": "text/x-python",
   "name": "python",
   "nbconvert_exporter": "python",
   "pygments_lexer": "ipython3",
   "version": "3.9.16"
  }
 },
 "nbformat": 4,
 "nbformat_minor": 5
}

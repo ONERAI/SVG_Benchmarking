{
 "cells": [
  {
   "cell_type": "code",
   "execution_count": 1,
   "id": "e094a9a8-c118-434d-8704-cdc47f8c9e96",
   "metadata": {},
   "outputs": [],
   "source": [
    "import pandas as pd\n",
    "import numpy as np\n",
    "import matplotlib\n",
    "import matplotlib.pyplot as plt\n",
    "import scanpy as sc\n",
    "from somde import SomNode\n",
    "%matplotlib inline"
   ]
  },
  {
   "cell_type": "code",
   "execution_count": 2,
   "id": "ddc82e9b-11eb-4e7a-abb1-12a19ab600be",
   "metadata": {},
   "outputs": [],
   "source": [
    "import warnings\n",
    "warnings.filterwarnings('ignore')"
   ]
  },
  {
   "cell_type": "code",
   "execution_count": 3,
   "id": "5ca8dfa4-8e0e-4aed-a72d-0538bbceaef5",
   "metadata": {},
   "outputs": [],
   "source": [
    "adata = sc.read_h5ad(\"../../data/simulation/simulated/mouse_cerebellum.h5ad\")"
   ]
  },
  {
   "cell_type": "code",
   "execution_count": 4,
   "id": "e68d8762-cc38-46c9-b4be-c98f42427561",
   "metadata": {},
   "outputs": [],
   "source": [
    "data = pd.DataFrame(adata.layers['counts'].todense(), columns=adata.var_names, index=adata.obs_names)"
   ]
  },
  {
   "cell_type": "code",
   "execution_count": 5,
   "id": "d31e24bb-4c99-4557-b8af-04b139052c2b",
   "metadata": {},
   "outputs": [],
   "source": [
    "X = pd.DataFrame(adata.obsm['spatial'], index=adata.obs_names, columns=[\"x\", \"y\"])"
   ]
  },
  {
   "cell_type": "code",
   "execution_count": 7,
   "id": "f23dffe2-d00f-4147-a69b-ce1bf150d6fd",
   "metadata": {},
   "outputs": [
    {
     "name": "stdout",
     "output_type": "stream",
     "text": [
      "using 45*45 SOM nodes for 20982 points\n",
      "Warning: data was not float32. A 32-bit copy was made\n"
     ]
    }
   ],
   "source": [
    "som = SomNode(adata.obsm['spatial'], k=10)"
   ]
  },
  {
   "cell_type": "code",
   "execution_count": 8,
   "id": "188d8e1e-9ef7-4a34-9f6f-eabf7a5fe663",
   "metadata": {},
   "outputs": [],
   "source": [
    "ndf, ninfo = som.mtx(data.transpose())\n",
    "nres = som.norm()"
   ]
  },
  {
   "cell_type": "code",
   "execution_count": 9,
   "id": "ae961c0f-67fb-4e39-82a3-722c3500166b",
   "metadata": {},
   "outputs": [
    {
     "name": "stderr",
     "output_type": "stream",
     "text": [
      "Models:   0%|          | 0/10 [00:00<?, ?it/s]\n",
      "  0%|          | 0/110 [00:00<?, ?it/s]\u001b[A\n",
      " 51%|█████     | 56/110 [00:00<00:00, 556.86it/s]\u001b[A\n",
      "Models:  10%|█         | 1/10 [00:00<00:01,  5.61it/s]\n",
      "  0%|          | 0/110 [00:00<?, ?it/s]\u001b[A\n",
      " 27%|██▋       | 30/110 [00:00<00:00, 284.72it/s]\u001b[A\n",
      " 54%|█████▎    | 59/110 [00:00<00:00, 245.23it/s]\u001b[A\n",
      " 76%|███████▋  | 84/110 [00:00<00:00, 245.07it/s]\u001b[A\n",
      " 99%|█████████▉| 109/110 [00:00<00:00, 246.68it/s]\u001b[A\n",
      "Models:  20%|██        | 2/10 [00:00<00:02,  2.97it/s]\n",
      "  0%|          | 0/110 [00:00<?, ?it/s]\u001b[A\n",
      " 54%|█████▎    | 59/110 [00:00<00:00, 588.96it/s]\u001b[A\n",
      "Models:  30%|███       | 3/10 [00:00<00:01,  3.80it/s]\n",
      "  0%|          | 0/110 [00:00<?, ?it/s]\u001b[A\n",
      " 57%|█████▋    | 63/110 [00:00<00:00, 626.39it/s]\u001b[A\n",
      "Models:  40%|████      | 4/10 [00:00<00:01,  4.43it/s]\n",
      "  0%|          | 0/110 [00:00<?, ?it/s]\u001b[A\n",
      " 59%|█████▉    | 65/110 [00:00<00:00, 649.38it/s]\u001b[A\n",
      "Models:  50%|█████     | 5/10 [00:01<00:01,  4.83it/s]\n",
      "  0%|          | 0/110 [00:00<?, ?it/s]\u001b[A\n",
      " 31%|███       | 34/110 [00:00<00:00, 339.86it/s]\u001b[A\n",
      " 62%|██████▏   | 68/110 [00:00<00:00, 316.38it/s]\u001b[A\n",
      " 97%|█████████▋| 107/110 [00:00<00:00, 346.75it/s]\u001b[A\n",
      "Models:  60%|██████    | 6/10 [00:01<00:00,  4.05it/s]\n",
      "  0%|          | 0/110 [00:00<?, ?it/s]\u001b[A\n",
      " 33%|███▎      | 36/110 [00:00<00:00, 350.71it/s]\u001b[A\n",
      " 65%|██████▌   | 72/110 [00:00<00:00, 333.76it/s]\u001b[A\n",
      " 97%|█████████▋| 107/110 [00:00<00:00, 338.87it/s]\u001b[A\n",
      "Models:  70%|███████   | 7/10 [00:01<00:00,  3.66it/s]\n",
      "  0%|          | 0/110 [00:00<?, ?it/s]\u001b[A\n",
      " 45%|████▌     | 50/110 [00:00<00:00, 495.76it/s]\u001b[A\n",
      " 91%|█████████ | 100/110 [00:00<00:00, 494.15it/s]\u001b[A\n",
      "Models:  80%|████████  | 8/10 [00:02<00:00,  3.86it/s]\n",
      "  0%|          | 0/110 [00:00<?, ?it/s]\u001b[A\n",
      " 40%|████      | 44/110 [00:00<00:00, 437.08it/s]\u001b[A\n",
      " 82%|████████▏ | 90/110 [00:00<00:00, 447.09it/s]\u001b[A\n",
      "Models:  90%|█████████ | 9/10 [00:02<00:00,  3.88it/s]\n",
      "  0%|          | 0/110 [00:00<?, ?it/s]\u001b[A\n",
      " 40%|████      | 44/110 [00:00<00:00, 432.99it/s]\u001b[A\n",
      " 80%|████████  | 88/110 [00:00<00:00, 436.16it/s]\u001b[A\n",
      "Models: 100%|██████████| 10/10 [00:02<00:00,  3.94it/s]\n"
     ]
    }
   ],
   "source": [
    "result, SVnum = som.run()"
   ]
  },
  {
   "cell_type": "code",
   "execution_count": 10,
   "id": "a3bfedb0-d8f1-4036-932e-c220ba52a388",
   "metadata": {},
   "outputs": [],
   "source": [
    "result.set_index(\"g\", inplace=True)\n",
    "result = result.loc[adata.var_names]"
   ]
  },
  {
   "cell_type": "code",
   "execution_count": 11,
   "id": "509e1d7b-2e7f-42fe-8a5f-13c3f04d21f5",
   "metadata": {},
   "outputs": [
    {
     "data": {
      "text/html": [
       "<div>\n",
       "<style scoped>\n",
       "    .dataframe tbody tr th:only-of-type {\n",
       "        vertical-align: middle;\n",
       "    }\n",
       "\n",
       "    .dataframe tbody tr th {\n",
       "        vertical-align: top;\n",
       "    }\n",
       "\n",
       "    .dataframe thead th {\n",
       "        text-align: right;\n",
       "    }\n",
       "</style>\n",
       "<table border=\"1\" class=\"dataframe\">\n",
       "  <thead>\n",
       "    <tr style=\"text-align: right;\">\n",
       "      <th></th>\n",
       "      <th>FSV</th>\n",
       "      <th>M</th>\n",
       "      <th>l</th>\n",
       "      <th>max_delta</th>\n",
       "      <th>max_ll</th>\n",
       "      <th>max_mu_hat</th>\n",
       "      <th>max_s2_t_hat</th>\n",
       "      <th>model</th>\n",
       "      <th>n</th>\n",
       "      <th>s2_FSV</th>\n",
       "      <th>s2_logdelta</th>\n",
       "      <th>time</th>\n",
       "      <th>BIC</th>\n",
       "      <th>max_ll_null</th>\n",
       "      <th>LLR</th>\n",
       "      <th>pval</th>\n",
       "      <th>qval</th>\n",
       "    </tr>\n",
       "  </thead>\n",
       "  <tbody>\n",
       "    <tr>\n",
       "      <th>gene_0</th>\n",
       "      <td>0.518780</td>\n",
       "      <td>4</td>\n",
       "      <td>164.63247</td>\n",
       "      <td>0.918273</td>\n",
       "      <td>105.886216</td>\n",
       "      <td>-1.983266</td>\n",
       "      <td>0.237783</td>\n",
       "      <td>SE</td>\n",
       "      <td>2025</td>\n",
       "      <td>0.000007</td>\n",
       "      <td>0.000139</td>\n",
       "      <td>0.001708</td>\n",
       "      <td>-181.319131</td>\n",
       "      <td>-456.657583</td>\n",
       "      <td>562.543799</td>\n",
       "      <td>0.0</td>\n",
       "      <td>0.0</td>\n",
       "    </tr>\n",
       "    <tr>\n",
       "      <th>gene_1</th>\n",
       "      <td>0.519813</td>\n",
       "      <td>4</td>\n",
       "      <td>164.63247</td>\n",
       "      <td>0.914481</td>\n",
       "      <td>122.348822</td>\n",
       "      <td>-3.012639</td>\n",
       "      <td>0.493219</td>\n",
       "      <td>SE</td>\n",
       "      <td>2025</td>\n",
       "      <td>0.000007</td>\n",
       "      <td>0.000138</td>\n",
       "      <td>0.001584</td>\n",
       "      <td>-214.244343</td>\n",
       "      <td>-441.075601</td>\n",
       "      <td>563.424423</td>\n",
       "      <td>0.0</td>\n",
       "      <td>0.0</td>\n",
       "    </tr>\n",
       "    <tr>\n",
       "      <th>gene_2</th>\n",
       "      <td>0.558789</td>\n",
       "      <td>4</td>\n",
       "      <td>164.63247</td>\n",
       "      <td>0.781644</td>\n",
       "      <td>-81.364896</td>\n",
       "      <td>-1.901120</td>\n",
       "      <td>0.239552</td>\n",
       "      <td>SE</td>\n",
       "      <td>2025</td>\n",
       "      <td>0.000006</td>\n",
       "      <td>0.000123</td>\n",
       "      <td>0.001860</td>\n",
       "      <td>193.183091</td>\n",
       "      <td>-766.527242</td>\n",
       "      <td>685.162346</td>\n",
       "      <td>0.0</td>\n",
       "      <td>0.0</td>\n",
       "    </tr>\n",
       "    <tr>\n",
       "      <th>gene_3</th>\n",
       "      <td>0.588522</td>\n",
       "      <td>4</td>\n",
       "      <td>164.63247</td>\n",
       "      <td>0.692142</td>\n",
       "      <td>-171.533279</td>\n",
       "      <td>-2.548913</td>\n",
       "      <td>0.398664</td>\n",
       "      <td>SE</td>\n",
       "      <td>2025</td>\n",
       "      <td>0.000006</td>\n",
       "      <td>0.000122</td>\n",
       "      <td>0.001921</td>\n",
       "      <td>373.519858</td>\n",
       "      <td>-919.330469</td>\n",
       "      <td>747.797190</td>\n",
       "      <td>0.0</td>\n",
       "      <td>0.0</td>\n",
       "    </tr>\n",
       "    <tr>\n",
       "      <th>gene_4</th>\n",
       "      <td>0.721119</td>\n",
       "      <td>4</td>\n",
       "      <td>164.63247</td>\n",
       "      <td>0.382844</td>\n",
       "      <td>-1143.651616</td>\n",
       "      <td>-4.899991</td>\n",
       "      <td>1.541970</td>\n",
       "      <td>SE</td>\n",
       "      <td>2025</td>\n",
       "      <td>0.000005</td>\n",
       "      <td>0.000122</td>\n",
       "      <td>0.001879</td>\n",
       "      <td>2317.756532</td>\n",
       "      <td>-2057.712151</td>\n",
       "      <td>914.060535</td>\n",
       "      <td>0.0</td>\n",
       "      <td>0.0</td>\n",
       "    </tr>\n",
       "  </tbody>\n",
       "</table>\n",
       "</div>"
      ],
      "text/plain": [
       "             FSV  M          l  max_delta       max_ll  max_mu_hat  \\\n",
       "gene_0  0.518780  4  164.63247   0.918273   105.886216   -1.983266   \n",
       "gene_1  0.519813  4  164.63247   0.914481   122.348822   -3.012639   \n",
       "gene_2  0.558789  4  164.63247   0.781644   -81.364896   -1.901120   \n",
       "gene_3  0.588522  4  164.63247   0.692142  -171.533279   -2.548913   \n",
       "gene_4  0.721119  4  164.63247   0.382844 -1143.651616   -4.899991   \n",
       "\n",
       "        max_s2_t_hat model     n    s2_FSV  s2_logdelta      time  \\\n",
       "gene_0      0.237783    SE  2025  0.000007     0.000139  0.001708   \n",
       "gene_1      0.493219    SE  2025  0.000007     0.000138  0.001584   \n",
       "gene_2      0.239552    SE  2025  0.000006     0.000123  0.001860   \n",
       "gene_3      0.398664    SE  2025  0.000006     0.000122  0.001921   \n",
       "gene_4      1.541970    SE  2025  0.000005     0.000122  0.001879   \n",
       "\n",
       "                BIC  max_ll_null         LLR  pval  qval  \n",
       "gene_0  -181.319131  -456.657583  562.543799   0.0   0.0  \n",
       "gene_1  -214.244343  -441.075601  563.424423   0.0   0.0  \n",
       "gene_2   193.183091  -766.527242  685.162346   0.0   0.0  \n",
       "gene_3   373.519858  -919.330469  747.797190   0.0   0.0  \n",
       "gene_4  2317.756532 -2057.712151  914.060535   0.0   0.0  "
      ]
     },
     "execution_count": 11,
     "metadata": {},
     "output_type": "execute_result"
    }
   ],
   "source": [
    "result.head()"
   ]
  },
  {
   "cell_type": "code",
   "execution_count": 12,
   "id": "69e6b910-96e0-4367-a976-a672e77d5453",
   "metadata": {},
   "outputs": [
    {
     "data": {
      "text/plain": [
       "[<matplotlib.lines.Line2D at 0x154fd0b3e8e0>]"
      ]
     },
     "execution_count": 12,
     "metadata": {},
     "output_type": "execute_result"
    },
    {
     "data": {
      "image/png": "[encoded data removed]",
      "text/plain": [
       "<Figure size 432x288 with 1 Axes>"
      ]
     },
     "metadata": {
      "needs_background": "light"
     },
     "output_type": "display_data"
    }
   ],
   "source": [
    "from sklearn.metrics import precision_recall_curve\n",
    "\n",
    "y_true = adata.var.spatially_variable.values\n",
    "y_scores = -result.pval.values\n",
    "precision, recall, thresholds = precision_recall_curve(y_true, y_scores)\n",
    "\n",
    "plt.plot([0, 1], [0, 1], linestyle='--', label='No Skill')\n",
    "plt.plot(recall, precision, marker='.', label='Logistic')"
   ]
  },
  {
   "cell_type": "code",
   "execution_count": 13,
   "id": "e9c257b8-dd44-4f94-9679-0c466f9d820a",
   "metadata": {},
   "outputs": [],
   "source": [
    "from sklearn.metrics import auc, average_precision_score"
   ]
  },
  {
   "cell_type": "code",
   "execution_count": 14,
   "id": "550197e7-0bc6-46a9-8419-4d7735c8525e",
   "metadata": {},
   "outputs": [
    {
     "data": {
      "text/plain": [
       "1.0"
      ]
     },
     "execution_count": 14,
     "metadata": {},
     "output_type": "execute_result"
    }
   ],
   "source": [
    "auc(recall, precision)"
   ]
  },
  {
   "cell_type": "code",
   "execution_count": null,
   "id": "42c77316-b053-4fc3-9ddf-d5c6af3a25a5",
   "metadata": {},
   "outputs": [],
   "source": []
  }
 ],
 "metadata": {
  "kernelspec": {
   "display_name": "Python 3 (ipykernel)",
   "language": "python",
   "name": "python3"
  },
  "language_info": {
   "codemirror_mode": {
    "name": "ipython",
    "version": 3
   },
   "file_extension": ".py",
   "mimetype": "text/x-python",
   "name": "python",
   "nbconvert_exporter": "python",
   "pygments_lexer": "ipython3",
   "version": "3.8.12"
  }
 },
 "nbformat": 4,
 "nbformat_minor": 5
}

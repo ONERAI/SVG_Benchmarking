{
 "cells": [
  {
   "cell_type": "code",
   "execution_count": 1,
   "id": "e094a9a8-c118-434d-8704-cdc47f8c9e96",
   "metadata": {},
   "outputs": [],
   "source": [
    "import pandas as pd\n",
    "import numpy as np\n",
    "import matplotlib\n",
    "import matplotlib.pyplot as plt\n",
    "import scanpy as sc\n",
    "from somde import SomNode\n",
    "%matplotlib inline"
   ]
  },
  {
   "cell_type": "code",
   "execution_count": null,
   "id": "ddc82e9b-11eb-4e7a-abb1-12a19ab600be",
   "metadata": {},
   "outputs": [],
   "source": [
    "import warnings\n",
    "warnings.filterwarnings('ignore')"
   ]
  },
  {
   "cell_type": "code",
   "execution_count": null,
   "id": "5ca8dfa4-8e0e-4aed-a72d-0538bbceaef5",
   "metadata": {},
   "outputs": [],
   "source": [
    "adata = sc.read_h5ad(\"../../data/simulation/simulated/breast_tumor.h5ad\")"
   ]
  },
  {
   "cell_type": "code",
   "execution_count": null,
   "id": "e68d8762-cc38-46c9-b4be-c98f42427561",
   "metadata": {},
   "outputs": [],
   "source": [
    "data = pd.DataFrame(adata.layers['counts'].todense(), columns=adata.var_names, index=adata.obs_names)"
   ]
  },
  {
   "cell_type": "code",
   "execution_count": null,
   "id": "d31e24bb-4c99-4557-b8af-04b139052c2b",
   "metadata": {},
   "outputs": [],
   "source": [
    "X = pd.DataFrame(adata.obsm['spatial'], index=adata.obs_names, columns=[\"x\", \"y\"])"
   ]
  },
  {
   "cell_type": "code",
   "execution_count": null,
   "id": "2bd41a24-4e51-43b6-a1cd-bca632312862",
   "metadata": {},
   "outputs": [],
   "source": [
    "adata.obsm['spatial']"
   ]
  },
  {
   "cell_type": "code",
   "execution_count": null,
   "id": "f23dffe2-d00f-4147-a69b-ce1bf150d6fd",
   "metadata": {},
   "outputs": [],
   "source": [
    "som = SomNode(adata.obsm['spatial'], k=10)"
   ]
  },
  {
   "cell_type": "code",
   "execution_count": null,
   "id": "188d8e1e-9ef7-4a34-9f6f-eabf7a5fe663",
   "metadata": {},
   "outputs": [],
   "source": [
    "ndf, ninfo = som.mtx(data.transpose())\n",
    "nres = som.norm()"
   ]
  },
  {
   "cell_type": "code",
   "execution_count": null,
   "id": "ae961c0f-67fb-4e39-82a3-722c3500166b",
   "metadata": {},
   "outputs": [],
   "source": [
    "result, SVnum = som.run()"
   ]
  },
  {
   "cell_type": "code",
   "execution_count": null,
   "id": "a3bfedb0-d8f1-4036-932e-c220ba52a388",
   "metadata": {},
   "outputs": [],
   "source": [
    "result.index = adata.var_names[result.index.values]"
   ]
  },
  {
   "cell_type": "code",
   "execution_count": null,
   "id": "54c2d6b4-f868-42f6-ba29-774355c21322",
   "metadata": {},
   "outputs": [],
   "source": [
    "result.head()"
   ]
  },
  {
   "cell_type": "code",
   "execution_count": null,
   "id": "69e6b910-96e0-4367-a976-a672e77d5453",
   "metadata": {},
   "outputs": [],
   "source": []
  }
 ],
 "metadata": {
  "kernelspec": {
   "display_name": "Python 3 (ipykernel)",
   "language": "python",
   "name": "python3"
  },
  "language_info": {
   "codemirror_mode": {
    "name": "ipython",
    "version": 3
   },
   "file_extension": ".py",
   "mimetype": "text/x-python",
   "name": "python",
   "nbconvert_exporter": "python",
   "pygments_lexer": "ipython3",
   "version": "3.8.12"
  }
 },
 "nbformat": 4,
 "nbformat_minor": 5
}

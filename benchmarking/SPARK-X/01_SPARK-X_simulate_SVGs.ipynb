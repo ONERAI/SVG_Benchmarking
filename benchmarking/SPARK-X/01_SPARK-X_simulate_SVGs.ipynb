{
 "cells": [
  {
   "cell_type": "code",
   "execution_count": null,
   "id": "1e37621a-488c-425c-a3a5-fc8d899c5977",
   "metadata": {},
   "outputs": [],
   "source": [
    "library(SPARK)\n",
    "library(anndata)"
   ]
  },
  {
   "cell_type": "code",
   "execution_count": null,
   "id": "c99f7a83-9f05-4fc1-9d34-0aa09508ad59",
   "metadata": {},
   "outputs": [],
   "source": [
    "for(i in c(0:9)){\n",
    "    adata <- read_h5ad(glue::glue(\"../../data/simulation/svgs/adata_rep_{i}.h5ad\"))\n",
    "    counts = t(as.matrix(adata$layers[['counts']]))\n",
    "    info <- as.data.frame(adata$obsm[['spatial']])\n",
    "    rownames(info) <- colnames(counts)\n",
    "    colnames(info) <- c(\"x\", \"y\")\n",
    "\n",
    "    sparkX <- sparkx(counts, info[, 1:2], numCores=10,option=\"mixture\")\n",
    "    \n",
    "    df_var <- adata$var\n",
    "    df_var$spatially_variable <- as.integer(df_var$spatially_variable)\n",
    "\n",
    "    df <- as.data.frame(sparkX$res_mtest)\n",
    "    df <- df[rownames(df_var), ]\n",
    "    df$spatially_variable <- as.integer(df_var$spatially_variable)\n",
    "    df <- df[, c(\"adjustedPval\", \"spatially_variable\")]\n",
    "    \n",
    "    write.csv(df, file=glue::glue(\"./svgs/rep_{i}.csv\"), quote=FALSE)\n",
    "\n",
    "}"
   ]
  },
  {
   "cell_type": "code",
   "execution_count": null,
   "id": "0feb1087-b136-4fe3-8fa3-6acca3d14a72",
   "metadata": {},
   "outputs": [],
   "source": []
  }
 ],
 "metadata": {
  "kernelspec": {
   "display_name": "R",
   "language": "R",
   "name": "ir"
  },
  "language_info": {
   "codemirror_mode": "r",
   "file_extension": ".r",
   "mimetype": "text/x-r-source",
   "name": "R",
   "pygments_lexer": "r",
   "version": "4.1.1"
  }
 },
 "nbformat": 4,
 "nbformat_minor": 5
}
